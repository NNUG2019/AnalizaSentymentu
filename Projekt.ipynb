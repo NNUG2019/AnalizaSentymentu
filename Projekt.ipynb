{
  "nbformat": 4,
  "nbformat_minor": 0,
  "metadata": {
    "colab": {
      "name": "Projekt.ipynb",
      "provenance": [],
      "collapsed_sections": []
    },
    "kernelspec": {
      "name": "python3",
      "display_name": "Python 3"
    }
  },
  "cells": [
    {
      "cell_type": "markdown",
      "metadata": {
        "id": "D8_0C2Qz0B4T",
        "colab_type": "text"
      },
      "source": [
        "#Sprawozdanie z laboratorium - sieci neuronowe\n",
        "\n",
        "**Temat:** Analiza sentymentu\n",
        "\n",
        "**Skład grupy:** \n",
        "\n",
        "Aleksandra Rykaczewska, Marika Jońca, Klaudia Biernat\n",
        "\n",
        "**Opis zadania:**\n",
        "\n",
        "- Naszym zadaniem jest przeanalizowanie otrzymanych danych, stworzenie modelu uczącego sieć oraz analiza stworzonego modelu. Sieć ta ma określać sentyment, negatywny bądź pozytywny, danego tekstu korzystając z recenzji filmów z IMDB. \n",
        "\n"
      ]
    },
    {
      "cell_type": "markdown",
      "metadata": {
        "id": "pqS_dbD1Hj6U",
        "colab_type": "text"
      },
      "source": [
        "#Dane\n",
        "\n",
        "Zestaw danych, z którego będziemy korzystać pochodzi z biblioteki `tensorflow_dataset`.  Jest to ogólno dostępna biblioteka, która umożliwia nam dostęp do różnych zbiorów danych. Do analizy sentymentu będziemy posługiwać się danymi ze zbioru `imbd_reviews` zawierającego 8000 subsłów.\n",
        "\n",
        "Baza ta składa się z 100 000 rekordów, zawierajacych po 25000 recenzji zbioru treningowego i zbioru uczącego oraz 50000 recenzji o nieokreślonym sentymencie, które można wykorzystać do trenowania sieci bez nadzoru.\n",
        "\n",
        "\n",
        "\n",
        "\n",
        "\n",
        "\n"
      ]
    },
    {
      "cell_type": "code",
      "metadata": {
        "id": "3EF6W-1QO-S-",
        "colab_type": "code",
        "outputId": "173cbba1-47ca-46eb-9c1b-61dc55f23f01",
        "colab": {
          "base_uri": "https://localhost:8080/",
          "height": 353
        }
      },
      "source": [
        "!pip install tfds-nightly"
      ],
      "execution_count": 0,
      "outputs": [
        {
          "output_type": "stream",
          "text": [
            "Requirement already satisfied: tfds-nightly in /usr/local/lib/python3.6/dist-packages (1.3.2.dev202001140105)\n",
            "Requirement already satisfied: requests>=2.19.0 in /usr/local/lib/python3.6/dist-packages (from tfds-nightly) (2.21.0)\n",
            "Requirement already satisfied: tensorflow-metadata in /usr/local/lib/python3.6/dist-packages (from tfds-nightly) (0.15.2)\n",
            "Requirement already satisfied: numpy in /usr/local/lib/python3.6/dist-packages (from tfds-nightly) (1.17.5)\n",
            "Requirement already satisfied: six in /usr/local/lib/python3.6/dist-packages (from tfds-nightly) (1.12.0)\n",
            "Requirement already satisfied: future in /usr/local/lib/python3.6/dist-packages (from tfds-nightly) (0.16.0)\n",
            "Requirement already satisfied: tqdm in /usr/local/lib/python3.6/dist-packages (from tfds-nightly) (4.28.1)\n",
            "Requirement already satisfied: absl-py in /usr/local/lib/python3.6/dist-packages (from tfds-nightly) (0.9.0)\n",
            "Requirement already satisfied: attrs>=18.1.0 in /usr/local/lib/python3.6/dist-packages (from tfds-nightly) (19.3.0)\n",
            "Requirement already satisfied: protobuf>=3.6.1 in /usr/local/lib/python3.6/dist-packages (from tfds-nightly) (3.10.0)\n",
            "Requirement already satisfied: wrapt in /usr/local/lib/python3.6/dist-packages (from tfds-nightly) (1.11.2)\n",
            "Requirement already satisfied: promise in /usr/local/lib/python3.6/dist-packages (from tfds-nightly) (2.3)\n",
            "Requirement already satisfied: termcolor in /usr/local/lib/python3.6/dist-packages (from tfds-nightly) (1.1.0)\n",
            "Requirement already satisfied: dill in /usr/local/lib/python3.6/dist-packages (from tfds-nightly) (0.3.1.1)\n",
            "Requirement already satisfied: urllib3<1.25,>=1.21.1 in /usr/local/lib/python3.6/dist-packages (from requests>=2.19.0->tfds-nightly) (1.24.3)\n",
            "Requirement already satisfied: idna<2.9,>=2.5 in /usr/local/lib/python3.6/dist-packages (from requests>=2.19.0->tfds-nightly) (2.8)\n",
            "Requirement already satisfied: certifi>=2017.4.17 in /usr/local/lib/python3.6/dist-packages (from requests>=2.19.0->tfds-nightly) (2019.11.28)\n",
            "Requirement already satisfied: chardet<3.1.0,>=3.0.2 in /usr/local/lib/python3.6/dist-packages (from requests>=2.19.0->tfds-nightly) (3.0.4)\n",
            "Requirement already satisfied: googleapis-common-protos in /usr/local/lib/python3.6/dist-packages (from tensorflow-metadata->tfds-nightly) (1.6.0)\n",
            "Requirement already satisfied: setuptools in /usr/local/lib/python3.6/dist-packages (from protobuf>=3.6.1->tfds-nightly) (42.0.2)\n"
          ],
          "name": "stdout"
        }
      ]
    },
    {
      "cell_type": "code",
      "metadata": {
        "id": "RMUH8CywYAty",
        "colab_type": "code",
        "outputId": "0ed9e9c4-6720-43e7-abe6-239ef4e26e6d",
        "colab": {
          "base_uri": "https://localhost:8080/",
          "height": 625
        }
      },
      "source": [
        "!pip install -U tensorflow"
      ],
      "execution_count": 0,
      "outputs": [
        {
          "output_type": "stream",
          "text": [
            "Requirement already up-to-date: tensorflow in /usr/local/lib/python3.6/dist-packages (2.1.0)\n",
            "Requirement already satisfied, skipping upgrade: grpcio>=1.8.6 in /usr/local/lib/python3.6/dist-packages (from tensorflow) (1.15.0)\n",
            "Requirement already satisfied, skipping upgrade: six>=1.12.0 in /usr/local/lib/python3.6/dist-packages (from tensorflow) (1.12.0)\n",
            "Requirement already satisfied, skipping upgrade: google-pasta>=0.1.6 in /usr/local/lib/python3.6/dist-packages (from tensorflow) (0.1.8)\n",
            "Requirement already satisfied, skipping upgrade: absl-py>=0.7.0 in /usr/local/lib/python3.6/dist-packages (from tensorflow) (0.9.0)\n",
            "Requirement already satisfied, skipping upgrade: termcolor>=1.1.0 in /usr/local/lib/python3.6/dist-packages (from tensorflow) (1.1.0)\n",
            "Requirement already satisfied, skipping upgrade: protobuf>=3.8.0 in /usr/local/lib/python3.6/dist-packages (from tensorflow) (3.10.0)\n",
            "Requirement already satisfied, skipping upgrade: wheel>=0.26; python_version >= \"3\" in /usr/local/lib/python3.6/dist-packages (from tensorflow) (0.33.6)\n",
            "Requirement already satisfied, skipping upgrade: keras-preprocessing>=1.1.0 in /usr/local/lib/python3.6/dist-packages (from tensorflow) (1.1.0)\n",
            "Requirement already satisfied, skipping upgrade: numpy<2.0,>=1.16.0 in /usr/local/lib/python3.6/dist-packages (from tensorflow) (1.17.5)\n",
            "Requirement already satisfied, skipping upgrade: tensorboard<2.2.0,>=2.1.0 in /usr/local/lib/python3.6/dist-packages (from tensorflow) (2.1.0)\n",
            "Requirement already satisfied, skipping upgrade: astor>=0.6.0 in /usr/local/lib/python3.6/dist-packages (from tensorflow) (0.8.1)\n",
            "Requirement already satisfied, skipping upgrade: gast==0.2.2 in /usr/local/lib/python3.6/dist-packages (from tensorflow) (0.2.2)\n",
            "Requirement already satisfied, skipping upgrade: scipy==1.4.1; python_version >= \"3\" in /usr/local/lib/python3.6/dist-packages (from tensorflow) (1.4.1)\n",
            "Requirement already satisfied, skipping upgrade: wrapt>=1.11.1 in /usr/local/lib/python3.6/dist-packages (from tensorflow) (1.11.2)\n",
            "Requirement already satisfied, skipping upgrade: keras-applications>=1.0.8 in /usr/local/lib/python3.6/dist-packages (from tensorflow) (1.0.8)\n",
            "Requirement already satisfied, skipping upgrade: opt-einsum>=2.3.2 in /usr/local/lib/python3.6/dist-packages (from tensorflow) (3.1.0)\n",
            "Requirement already satisfied, skipping upgrade: tensorflow-estimator<2.2.0,>=2.1.0rc0 in /usr/local/lib/python3.6/dist-packages (from tensorflow) (2.1.0)\n",
            "Requirement already satisfied, skipping upgrade: setuptools in /usr/local/lib/python3.6/dist-packages (from protobuf>=3.8.0->tensorflow) (42.0.2)\n",
            "Requirement already satisfied, skipping upgrade: werkzeug>=0.11.15 in /usr/local/lib/python3.6/dist-packages (from tensorboard<2.2.0,>=2.1.0->tensorflow) (0.16.0)\n",
            "Requirement already satisfied, skipping upgrade: google-auth-oauthlib<0.5,>=0.4.1 in /usr/local/lib/python3.6/dist-packages (from tensorboard<2.2.0,>=2.1.0->tensorflow) (0.4.1)\n",
            "Requirement already satisfied, skipping upgrade: google-auth<2,>=1.6.3 in /usr/local/lib/python3.6/dist-packages (from tensorboard<2.2.0,>=2.1.0->tensorflow) (1.10.0)\n",
            "Requirement already satisfied, skipping upgrade: markdown>=2.6.8 in /usr/local/lib/python3.6/dist-packages (from tensorboard<2.2.0,>=2.1.0->tensorflow) (3.1.1)\n",
            "Requirement already satisfied, skipping upgrade: requests<3,>=2.21.0 in /usr/local/lib/python3.6/dist-packages (from tensorboard<2.2.0,>=2.1.0->tensorflow) (2.21.0)\n",
            "Requirement already satisfied, skipping upgrade: h5py in /usr/local/lib/python3.6/dist-packages (from keras-applications>=1.0.8->tensorflow) (2.8.0)\n",
            "Requirement already satisfied, skipping upgrade: requests-oauthlib>=0.7.0 in /usr/local/lib/python3.6/dist-packages (from google-auth-oauthlib<0.5,>=0.4.1->tensorboard<2.2.0,>=2.1.0->tensorflow) (1.3.0)\n",
            "Requirement already satisfied, skipping upgrade: pyasn1-modules>=0.2.1 in /usr/local/lib/python3.6/dist-packages (from google-auth<2,>=1.6.3->tensorboard<2.2.0,>=2.1.0->tensorflow) (0.2.7)\n",
            "Requirement already satisfied, skipping upgrade: cachetools<5.0,>=2.0.0 in /usr/local/lib/python3.6/dist-packages (from google-auth<2,>=1.6.3->tensorboard<2.2.0,>=2.1.0->tensorflow) (4.0.0)\n",
            "Requirement already satisfied, skipping upgrade: rsa<4.1,>=3.1.4 in /usr/local/lib/python3.6/dist-packages (from google-auth<2,>=1.6.3->tensorboard<2.2.0,>=2.1.0->tensorflow) (4.0)\n",
            "Requirement already satisfied, skipping upgrade: certifi>=2017.4.17 in /usr/local/lib/python3.6/dist-packages (from requests<3,>=2.21.0->tensorboard<2.2.0,>=2.1.0->tensorflow) (2019.11.28)\n",
            "Requirement already satisfied, skipping upgrade: chardet<3.1.0,>=3.0.2 in /usr/local/lib/python3.6/dist-packages (from requests<3,>=2.21.0->tensorboard<2.2.0,>=2.1.0->tensorflow) (3.0.4)\n",
            "Requirement already satisfied, skipping upgrade: idna<2.9,>=2.5 in /usr/local/lib/python3.6/dist-packages (from requests<3,>=2.21.0->tensorboard<2.2.0,>=2.1.0->tensorflow) (2.8)\n",
            "Requirement already satisfied, skipping upgrade: urllib3<1.25,>=1.21.1 in /usr/local/lib/python3.6/dist-packages (from requests<3,>=2.21.0->tensorboard<2.2.0,>=2.1.0->tensorflow) (1.24.3)\n",
            "Requirement already satisfied, skipping upgrade: oauthlib>=3.0.0 in /usr/local/lib/python3.6/dist-packages (from requests-oauthlib>=0.7.0->google-auth-oauthlib<0.5,>=0.4.1->tensorboard<2.2.0,>=2.1.0->tensorflow) (3.1.0)\n",
            "Requirement already satisfied, skipping upgrade: pyasn1<0.5.0,>=0.4.6 in /usr/local/lib/python3.6/dist-packages (from pyasn1-modules>=0.2.1->google-auth<2,>=1.6.3->tensorboard<2.2.0,>=2.1.0->tensorflow) (0.4.8)\n"
          ],
          "name": "stdout"
        }
      ]
    },
    {
      "cell_type": "code",
      "metadata": {
        "id": "wYLSx0vGYNNw",
        "colab_type": "code",
        "colab": {}
      },
      "source": [
        "import tensorflow as tf\n",
        "import numpy as np"
      ],
      "execution_count": 0,
      "outputs": []
    },
    {
      "cell_type": "code",
      "metadata": {
        "id": "HzzLwFwJYZRe",
        "colab_type": "code",
        "colab": {}
      },
      "source": [
        "from tensorflow import keras"
      ],
      "execution_count": 0,
      "outputs": []
    },
    {
      "cell_type": "code",
      "metadata": {
        "id": "pr49LWw2pp_n",
        "colab_type": "code",
        "colab": {}
      },
      "source": [
        "import tensorflow_datasets as tfds"
      ],
      "execution_count": 0,
      "outputs": []
    },
    {
      "cell_type": "markdown",
      "metadata": {
        "id": "AhlL9MMqFzql",
        "colab_type": "text"
      },
      "source": [
        "Załadujemy nasze dane."
      ]
    },
    {
      "cell_type": "code",
      "metadata": {
        "id": "ybjvyNRMqEQ4",
        "colab_type": "code",
        "colab": {}
      },
      "source": [
        "(train_data, test_data), info = tfds.load(\n",
        "    'imdb_reviews/subwords8k', \n",
        "    split = (tfds.Split.TRAIN, tfds.Split.TEST),\n",
        "    as_supervised=True,\n",
        "    with_info=True)"
      ],
      "execution_count": 0,
      "outputs": []
    },
    {
      "cell_type": "markdown",
      "metadata": {
        "id": "zxKmF39ecDUz",
        "colab_type": "text"
      },
      "source": [
        "#Eksploracyjna Analiza danych\n",
        "\n"
      ]
    },
    {
      "cell_type": "markdown",
      "metadata": {
        "id": "ALb49rHcddS-",
        "colab_type": "text"
      },
      "source": [
        "Liczba danych testowych:"
      ]
    },
    {
      "cell_type": "code",
      "metadata": {
        "id": "30q3XfOorI3l",
        "colab_type": "code",
        "outputId": "697c5fdb-63c4-4184-e884-8d4d2d16fd38",
        "colab": {
          "base_uri": "https://localhost:8080/",
          "height": 34
        }
      },
      "source": [
        "info.splits['test'].num_examples"
      ],
      "execution_count": 0,
      "outputs": [
        {
          "output_type": "execute_result",
          "data": {
            "text/plain": [
              "25000"
            ]
          },
          "metadata": {
            "tags": []
          },
          "execution_count": 14
        }
      ]
    },
    {
      "cell_type": "markdown",
      "metadata": {
        "id": "WunRNylldunJ",
        "colab_type": "text"
      },
      "source": [
        "Liczba danych treningowych: "
      ]
    },
    {
      "cell_type": "code",
      "metadata": {
        "id": "KwTUC0k-fOgP",
        "colab_type": "code",
        "outputId": "32ab427b-afd4-49b8-88e0-6472d5d4c08d",
        "colab": {
          "base_uri": "https://localhost:8080/",
          "height": 34
        }
      },
      "source": [
        "info.splits['train'].num_examples"
      ],
      "execution_count": 0,
      "outputs": [
        {
          "output_type": "execute_result",
          "data": {
            "text/plain": [
              "25000"
            ]
          },
          "metadata": {
            "tags": []
          },
          "execution_count": 15
        }
      ]
    },
    {
      "cell_type": "markdown",
      "metadata": {
        "id": "bk093F0Ud2ea",
        "colab_type": "text"
      },
      "source": [
        "Liczba danych ze zbioru unsupervised:"
      ]
    },
    {
      "cell_type": "code",
      "metadata": {
        "id": "wI8Z-R9igVhk",
        "colab_type": "code",
        "outputId": "e8736454-e9d1-4ee5-f3eb-3d9a0fbb83d4",
        "colab": {
          "base_uri": "https://localhost:8080/",
          "height": 34
        }
      },
      "source": [
        "info.splits['unsupervised'].num_examples"
      ],
      "execution_count": 0,
      "outputs": [
        {
          "output_type": "execute_result",
          "data": {
            "text/plain": [
              "50000"
            ]
          },
          "metadata": {
            "tags": []
          },
          "execution_count": 16
        }
      ]
    },
    {
      "cell_type": "code",
      "metadata": {
        "id": "Gj6rq8e9fQeQ",
        "colab_type": "code",
        "outputId": "a4e10905-8397-4357-a9b6-42dcc769eada",
        "colab": {
          "base_uri": "https://localhost:8080/",
          "height": 34
        }
      },
      "source": [
        "#Liczba klas (0 i 1 gdzie 0 - negatywne, 1 - pozytywne)\n",
        "info.features['label'].num_classes"
      ],
      "execution_count": 0,
      "outputs": [
        {
          "output_type": "execute_result",
          "data": {
            "text/plain": [
              "2"
            ]
          },
          "metadata": {
            "tags": []
          },
          "execution_count": 17
        }
      ]
    },
    {
      "cell_type": "markdown",
      "metadata": {
        "id": "SsTYpWCHfE1H",
        "colab_type": "text"
      },
      "source": [
        "Używając `SubwordTextEncoder`, który\n",
        "\n",
        "\n"
      ]
    },
    {
      "cell_type": "code",
      "metadata": {
        "id": "5jfczyHJrylu",
        "colab_type": "code",
        "colab": {}
      },
      "source": [
        "encoder = info.features['text'].encoder\n",
        "data = [i for i in train_data]\n"
      ],
      "execution_count": 0,
      "outputs": []
    },
    {
      "cell_type": "markdown",
      "metadata": {
        "id": "UjhlOrXV4kiK",
        "colab_type": "text"
      },
      "source": [
        "Dla ułatwienia stworzymy sobie funkcje, które będa mówić nam jaki sentyment ma recenzja o danym id oraz takie, które wyświetlą nam przykładowe recenzje pozytywne oraz negatywne z zadanego zbioru id."
      ]
    },
    {
      "cell_type": "code",
      "metadata": {
        "id": "Co5qcdY_phk2",
        "colab_type": "code",
        "colab": {}
      },
      "source": [
        "def jaki_sentyment_dla_id(id):\n",
        "  if ((data[id][1]).numpy()==0):\n",
        "    print(\"Recenzja negatywna\")\n",
        "  else:\n",
        "    print(\"Recenzja pozytywna\")\n",
        "\n",
        "def przykladowa_pozytywna(od_id,do_id):       \n",
        "  for i in range(od_id,do_id):\n",
        "    if ((data[i][1]).numpy()==1):\n",
        "      print(\"Id recenzji: \",i)\n",
        "      return encoder.decode(data[i][0].numpy())\n",
        "def przykladowa_negatywna(od_id,do_id):       \n",
        "  for i in range(od_id,do_id):\n",
        "    if ((data[i][1]).numpy()==0):\n",
        "      print(\"Id recenzji: \",i)\n",
        "      return encoder.decode(data[i][0].numpy())\n",
        "  print(\"Dla id od {} do {} nie ma negatywnej recenzji\".format(od_id, do_id))"
      ],
      "execution_count": 0,
      "outputs": []
    },
    {
      "cell_type": "markdown",
      "metadata": {
        "id": "U5jE2MoH4WE_",
        "colab_type": "text"
      },
      "source": [
        "Wyświetlimy teraz przykładową recenzje pozytywną, a następnie negatywną."
      ]
    },
    {
      "cell_type": "code",
      "metadata": {
        "id": "a1bdkzom5PIl",
        "colab_type": "code",
        "outputId": "97fbf410-60ab-4cfe-f191-76bae96f20be",
        "colab": {
          "base_uri": "https://localhost:8080/",
          "height": 70
        }
      },
      "source": [
        "przykladowa_pozytywna(0,10)"
      ],
      "execution_count": 0,
      "outputs": [
        {
          "output_type": "stream",
          "text": [
            "Id recenzji:  0\n"
          ],
          "name": "stdout"
        },
        {
          "output_type": "execute_result",
          "data": {
            "text/plain": [
              "\"As a lifelong fan of Dickens, I have invariably been disappointed by adaptations of his novels.<br /><br />Although his works presented an extremely accurate re-telling of human life at every level in Victorian Britain, throughout them all was a pervasive thread of humour that could be both playful or sarcastic as the narrative dictated. In a way, he was a literary caricaturist and cartoonist. He could be serious and hilarious in the same sentence. He pricked pride, lampooned arrogance, celebrated modesty, and empathised with loneliness and poverty. It may be a cliché, but he was a people's writer.<br /><br />And it is the comedy that is so often missing from his interpretations. At the time of writing, Oliver Twist is being dramatised in serial form on BBC television. All of the misery and cruelty is their, but non of the humour, irony, and savage lampoonery. The result is just a dark, dismal experience: the story penned by a journalist rather than a novelist. It's not really Dickens at all.<br /><br />'Oliver!', on the other hand, is much closer to the mark. The mockery of officialdom is perfectly interpreted, from the blustering beadle to the drunken magistrate. The classic stand-off between the beadle and Mr Brownlow, in which the law is described as 'a ass, a idiot' couldn't have been better done. Harry Secombe is an ideal choice.<br /><br />But the blinding cruelty is also there, the callous indifference of the state, the cold, hunger, poverty and loneliness are all presented just as surely as The Master would have wished.<br /><br />And then there is crime. Ron Moody is a treasure as the sleazy Jewish fence, whilst Oliver Reid has Bill Sykes to perfection.<br /><br />Perhaps not surprisingly, Lionel Bart - himself a Jew from London's east-end - takes a liberty with Fagin by re-interpreting him as a much more benign fellow than was Dicken's original. In the novel, he was utterly ruthless, sending some of his own boys to the gallows in order to protect himself (though he was also caught and hanged). Whereas in the movie, he is presented as something of a wayward father-figure, a sort of charitable thief rather than a corrupter of children, the latter being a long-standing anti-semitic sentiment. Otherwise, very few liberties are taken with Dickens's original. All of the most memorable elements are included. Just enough menace and violence is retained to ensure narrative fidelity whilst at the same time allowing for children' sensibilities. Nancy is still beaten to death, Bullseye narrowly escapes drowning, and Bill Sykes gets a faithfully graphic come-uppance.<br /><br />Every song is excellent, though they do incline towards schmaltz. Mark Lester mimes his wonderfully. Both his and my favourite scene is the one in which the world comes alive to 'who will buy'. It's schmaltzy, but it's Dickens through and through.<br /><br />I could go on. I could commend the wonderful set-pieces, the contrast of the rich and poor. There is top-quality acting from more British regulars than you could shake a stick at.<br /><br />I ought to give it 10 points, but I'm feeling more like Scrooge today. Soak it up with your Christmas dinner. No original has been better realised.\""
            ]
          },
          "metadata": {
            "tags": []
          },
          "execution_count": 20
        }
      ]
    },
    {
      "cell_type": "code",
      "metadata": {
        "id": "WVDSDVygvK3N",
        "colab_type": "code",
        "outputId": "5516b684-b3a6-4944-8ca2-d8421e8342ed",
        "colab": {
          "base_uri": "https://localhost:8080/",
          "height": 70
        }
      },
      "source": [
        "przykladowa_negatywna(0,10)"
      ],
      "execution_count": 0,
      "outputs": [
        {
          "output_type": "stream",
          "text": [
            "Id recenzji:  6\n"
          ],
          "name": "stdout"
        },
        {
          "output_type": "execute_result",
          "data": {
            "text/plain": [
              "'Just because someone is under the age of 10 does not mean they are stupid. If your child likes this film you\\'d better have him/her tested. I am continually amazed at how so many people can be involved in something that turns out so bad. This \"film\" is a showcase for digital wizardry AND NOTHING ELSE. The writing is horrid. I can\\'t remember when I\\'ve heard such bad dialogue. The songs are beyond wretched. The acting is sub-par but then the actors were not given much. Who decided to employ Joey Fatone? He cannot sing and he is ugly as sin.<br /><br />The worst thing is the obviousness of it all. It is as if the writers went out of their way to make it all as stupid as possible. Great children\\'s movies are wicked, smart and full of wit - films like Shrek and Toy Story in recent years, Willie Wonka and The Witches to mention two of the past. But in the continual dumbing-down of American more are flocking to dreck like Finding Nemo (yes, that\\'s right), the recent Charlie & The Chocolate Factory and eye-crossing trash like Red Riding Hood.'"
            ]
          },
          "metadata": {
            "tags": []
          },
          "execution_count": 21
        }
      ]
    },
    {
      "cell_type": "code",
      "metadata": {
        "id": "6hT72opFqx8t",
        "colab_type": "code",
        "outputId": "f5452ec9-1426-48d7-ad9b-4920a0446863",
        "colab": {
          "base_uri": "https://localhost:8080/",
          "height": 34
        }
      },
      "source": [
        "jaki_sentyment_dla_id(123)"
      ],
      "execution_count": 0,
      "outputs": [
        {
          "output_type": "stream",
          "text": [
            "Recenzja pozytywna\n"
          ],
          "name": "stdout"
        }
      ]
    },
    {
      "cell_type": "code",
      "metadata": {
        "id": "LC5avsgvy4ss",
        "colab_type": "code",
        "outputId": "70d7a4f0-d90f-4bb4-97be-c0cdff6b7cd1",
        "colab": {
          "base_uri": "https://localhost:8080/",
          "height": 558
        }
      },
      "source": [
        "print(info)"
      ],
      "execution_count": 0,
      "outputs": [
        {
          "output_type": "stream",
          "text": [
            "tfds.core.DatasetInfo(\n",
            "    name='imdb_reviews',\n",
            "    version=0.1.0,\n",
            "    description='Large Movie Review Dataset.\n",
            "This is a dataset for binary sentiment classification containing substantially more data than previous benchmark datasets. We provide a set of 25,000 highly polar movie reviews for training, and 25,000 for testing. There is additional unlabeled data for use as well.',\n",
            "    homepage='http://ai.stanford.edu/~amaas/data/sentiment/',\n",
            "    features=FeaturesDict({\n",
            "        'label': ClassLabel(shape=(), dtype=tf.int64, num_classes=2),\n",
            "        'text': Text(shape=(None,), dtype=tf.int64, encoder=<SubwordTextEncoder vocab_size=8185>),\n",
            "    }),\n",
            "    total_num_examples=100000,\n",
            "    splits={\n",
            "        'test': 25000,\n",
            "        'train': 25000,\n",
            "        'unsupervised': 50000,\n",
            "    },\n",
            "    supervised_keys=('text', 'label'),\n",
            "    citation=\"\"\"@InProceedings{maas-EtAl:2011:ACL-HLT2011,\n",
            "      author    = {Maas, Andrew L.  and  Daly, Raymond E.  and  Pham, Peter T.  and  Huang, Dan  and  Ng, Andrew Y.  and  Potts, Christopher},\n",
            "      title     = {Learning Word Vectors for Sentiment Analysis},\n",
            "      booktitle = {Proceedings of the 49th Annual Meeting of the Association for Computational Linguistics: Human Language Technologies},\n",
            "      month     = {June},\n",
            "      year      = {2011},\n",
            "      address   = {Portland, Oregon, USA},\n",
            "      publisher = {Association for Computational Linguistics},\n",
            "      pages     = {142--150},\n",
            "      url       = {http://www.aclweb.org/anthology/P11-1015}\n",
            "    }\"\"\",\n",
            "    redistribution_info=,\n",
            ")\n",
            "\n"
          ],
          "name": "stdout"
        }
      ]
    },
    {
      "cell_type": "code",
      "metadata": {
        "id": "pw__sp4yKpOy",
        "colab_type": "code",
        "outputId": "e87324f4-68a4-42f5-9ac6-1c9370183b64",
        "colab": {
          "base_uri": "https://localhost:8080/",
          "height": 138
        }
      },
      "source": [
        "BUFFER_SIZE = 1000\n",
        "\n",
        "train_batches = (\n",
        "    train_data\n",
        "    .shuffle(BUFFER_SIZE)\n",
        "    .padded_batch(32, train_data.output_shapes))\n",
        "\n",
        "test_batches = (\n",
        "    test_data\n",
        "    .padded_batch(32, train_data.output_shapes))"
      ],
      "execution_count": 0,
      "outputs": [
        {
          "output_type": "stream",
          "text": [
            "WARNING:tensorflow:From <ipython-input-24-5710cd302ddc>:6: DatasetV1.output_shapes (from tensorflow.python.data.ops.dataset_ops) is deprecated and will be removed in a future version.\n",
            "Instructions for updating:\n",
            "Use `tf.compat.v1.data.get_output_shapes(dataset)`.\n"
          ],
          "name": "stdout"
        },
        {
          "output_type": "stream",
          "text": [
            "WARNING:tensorflow:From <ipython-input-24-5710cd302ddc>:6: DatasetV1.output_shapes (from tensorflow.python.data.ops.dataset_ops) is deprecated and will be removed in a future version.\n",
            "Instructions for updating:\n",
            "Use `tf.compat.v1.data.get_output_shapes(dataset)`.\n"
          ],
          "name": "stderr"
        }
      ]
    },
    {
      "cell_type": "code",
      "metadata": {
        "id": "zSarT0jzxslq",
        "colab_type": "code",
        "outputId": "01fbeaa6-4ae9-41eb-a5ff-733848318351",
        "colab": {
          "base_uri": "https://localhost:8080/",
          "height": 252
        }
      },
      "source": [
        "model = keras.Sequential([\n",
        "  keras.layers.Embedding(encoder.vocab_size, 16),\n",
        "  keras.layers.GlobalAveragePooling1D(),\n",
        "  keras.layers.Dense(1, activation='sigmoid')])\n",
        "\n",
        "model.summary()"
      ],
      "execution_count": 0,
      "outputs": [
        {
          "output_type": "stream",
          "text": [
            "Model: \"sequential\"\n",
            "_________________________________________________________________\n",
            "Layer (type)                 Output Shape              Param #   \n",
            "=================================================================\n",
            "embedding (Embedding)        (None, None, 16)          130960    \n",
            "_________________________________________________________________\n",
            "global_average_pooling1d (Gl (None, 16)                0         \n",
            "_________________________________________________________________\n",
            "dense (Dense)                (None, 1)                 17        \n",
            "=================================================================\n",
            "Total params: 130,977\n",
            "Trainable params: 130,977\n",
            "Non-trainable params: 0\n",
            "_________________________________________________________________\n"
          ],
          "name": "stdout"
        }
      ]
    },
    {
      "cell_type": "markdown",
      "metadata": {
        "id": "CWmHCs5ahL-V",
        "colab_type": "text"
      },
      "source": [
        "`Embedding` jest wartwą, która dokonuje transformacji pojedynczej liczby na rzeczywisty 16-wymiarowy wektor. Jest to w istocie redukcja wymiaru z `encoder.vocab_size` (czyli 8000) do 16."
      ]
    },
    {
      "cell_type": "code",
      "metadata": {
        "id": "M7M7JJhGPkCy",
        "colab_type": "code",
        "colab": {}
      },
      "source": [
        "model.compile(optimizer='adam',\n",
        "              loss='binary_crossentropy',\n",
        "              metrics=['accuracy'])"
      ],
      "execution_count": 0,
      "outputs": []
    },
    {
      "cell_type": "code",
      "metadata": {
        "id": "1fNKkt0OPeLV",
        "colab_type": "code",
        "outputId": "88fccc6e-22b1-40a7-baf2-4f5bbaef3ab9",
        "colab": {
          "base_uri": "https://localhost:8080/",
          "height": 353
        }
      },
      "source": [
        "history = model.fit(train_batches,\n",
        "                    epochs=10,\n",
        "                    validation_data=test_batches,\n",
        "                    validation_steps=30)"
      ],
      "execution_count": 0,
      "outputs": [
        {
          "output_type": "stream",
          "text": [
            "Epoch 1/10\n",
            "782/782 [==============================] - 13s 17ms/step - loss: 0.6809 - accuracy: 0.6403 - val_loss: 0.6629 - val_accuracy: 0.6917\n",
            "Epoch 2/10\n",
            "782/782 [==============================] - 9s 12ms/step - loss: 0.6204 - accuracy: 0.7572 - val_loss: 0.5976 - val_accuracy: 0.7271\n",
            "Epoch 3/10\n",
            "782/782 [==============================] - 9s 12ms/step - loss: 0.5412 - accuracy: 0.8060 - val_loss: 0.5319 - val_accuracy: 0.8021\n",
            "Epoch 4/10\n",
            "782/782 [==============================] - 9s 12ms/step - loss: 0.4751 - accuracy: 0.8386 - val_loss: 0.4779 - val_accuracy: 0.8375\n",
            "Epoch 5/10\n",
            "782/782 [==============================] - 10s 12ms/step - loss: 0.4239 - accuracy: 0.8635 - val_loss: 0.4340 - val_accuracy: 0.8500\n",
            "Epoch 6/10\n",
            "782/782 [==============================] - 10s 12ms/step - loss: 0.3826 - accuracy: 0.8773 - val_loss: 0.4024 - val_accuracy: 0.8646\n",
            "Epoch 7/10\n",
            "782/782 [==============================] - 10s 12ms/step - loss: 0.3500 - accuracy: 0.8861 - val_loss: 0.3761 - val_accuracy: 0.8687\n",
            "Epoch 8/10\n",
            "782/782 [==============================] - 10s 12ms/step - loss: 0.3252 - accuracy: 0.8942 - val_loss: 0.3597 - val_accuracy: 0.8698\n",
            "Epoch 9/10\n",
            "782/782 [==============================] - 10s 12ms/step - loss: 0.3042 - accuracy: 0.8996 - val_loss: 0.3422 - val_accuracy: 0.8833\n",
            "Epoch 10/10\n",
            "782/782 [==============================] - 10s 12ms/step - loss: 0.2867 - accuracy: 0.9042 - val_loss: 0.3288 - val_accuracy: 0.8823\n"
          ],
          "name": "stdout"
        }
      ]
    },
    {
      "cell_type": "code",
      "metadata": {
        "id": "xWGEUoLLPvx8",
        "colab_type": "code",
        "outputId": "143c9169-679a-4287-fd2b-ef98f06c2734",
        "colab": {
          "base_uri": "https://localhost:8080/",
          "height": 50
        }
      },
      "source": [
        "loss, accuracy = model.evaluate(test_batches)\n",
        "\n",
        "print(\"Loss: \", loss)\n",
        "print(\"Accuracy: \", accuracy)"
      ],
      "execution_count": 0,
      "outputs": [
        {
          "output_type": "stream",
          "text": [
            "    782/Unknown - 8s 10ms/step - loss: 0.3336 - accuracy: 0.8734Loss:  0.3335993419903928\n",
            "Accuracy:  0.8734\n"
          ],
          "name": "stdout"
        }
      ]
    },
    {
      "cell_type": "code",
      "metadata": {
        "id": "201fBiZeP0Jq",
        "colab_type": "code",
        "outputId": "72a1c9e0-46ac-4f1f-fba6-c85b1487d65a",
        "colab": {
          "base_uri": "https://localhost:8080/",
          "height": 295
        }
      },
      "source": [
        "import matplotlib.pyplot as plt\n",
        "\n",
        "history_dict = history.history\n",
        "history_dict.keys()\n",
        "\n",
        "acc = history_dict['accuracy']\n",
        "val_acc = history_dict['val_accuracy']\n",
        "loss = history_dict['loss']\n",
        "val_loss = history_dict['val_loss']\n",
        "\n",
        "epochs = range(1, len(acc) + 1)\n",
        "\n",
        "# \"bo\" is for \"blue dot\"\n",
        "plt.plot(epochs, loss, 'bo', label='Training loss')\n",
        "# b is for \"solid blue line\"\n",
        "plt.plot(epochs, val_loss, 'b', label='Validation loss')\n",
        "plt.title('Training and validation loss')\n",
        "plt.xlabel('Epochs')\n",
        "plt.ylabel('Loss')\n",
        "plt.legend()\n",
        "\n",
        "plt.show()"
      ],
      "execution_count": 0,
      "outputs": [
        {
          "output_type": "display_data",
          "data": {
            "image/png": "[encoded data removed]",
            "text/plain": [
              "<Figure size 432x288 with 1 Axes>"
            ]
          },
          "metadata": {
            "tags": []
          }
        }
      ]
    },
    {
      "cell_type": "code",
      "metadata": {
        "id": "ZRWdsoi9P9ep",
        "colab_type": "code",
        "outputId": "ea5b3d61-5dc1-48c6-fd15-2cb972f83588",
        "colab": {
          "base_uri": "https://localhost:8080/",
          "height": 295
        }
      },
      "source": [
        "plt.clf()   # clear figure\n",
        "\n",
        "plt.plot(epochs, acc, 'bo', label='Training acc')\n",
        "plt.plot(epochs, val_acc, 'b', label='Validation acc')\n",
        "plt.title('Training and validation accuracy')\n",
        "plt.xlabel('Epochs')\n",
        "plt.ylabel('Accuracy')\n",
        "plt.legend(loc='lower right')\n",
        "\n",
        "plt.show()"
      ],
      "execution_count": 0,
      "outputs": [
        {
          "output_type": "display_data",
          "data": {
            "image/png": "[encoded data removed]",
            "text/plain": [
              "<Figure size 432x288 with 1 Axes>"
            ]
          },
          "metadata": {
            "tags": []
          }
        }
      ]
    },
    {
      "cell_type": "markdown",
      "metadata": {
        "id": "i6hrdtfbxsRb",
        "colab_type": "text"
      },
      "source": [
        "############################################################################\n"
      ]
    },
    {
      "cell_type": "code",
      "metadata": {
        "id": "uaU2nbodViHa",
        "colab_type": "code",
        "colab": {}
      },
      "source": [
        "from __future__ import absolute_import, division, print_function, unicode_literals"
      ],
      "execution_count": 0,
      "outputs": []
    },
    {
      "cell_type": "code",
      "metadata": {
        "id": "y8JRWoGoViEO",
        "colab_type": "code",
        "colab": {}
      },
      "source": [
        "def plot_graphs(history, string):\n",
        "  plt.plot(history.history[string])\n",
        "  plt.plot(history.history['val_'+string], '')\n",
        "  plt.xlabel(\"Epochs\")\n",
        "  plt.ylabel(string)\n",
        "  plt.legend([string, 'val_'+string])\n",
        "  plt.show()"
      ],
      "execution_count": 0,
      "outputs": []
    },
    {
      "cell_type": "code",
      "metadata": {
        "id": "KVQZsxxNViCK",
        "colab_type": "code",
        "colab": {}
      },
      "source": [
        "dataset, info = tfds.load('imdb_reviews/subwords8k', with_info=True,\n",
        "                          as_supervised=True)\n",
        "train_dataset, test_dataset = dataset['train'], dataset['test']"
      ],
      "execution_count": 0,
      "outputs": []
    },
    {
      "cell_type": "code",
      "metadata": {
        "id": "_GAsNnGSVh_x",
        "colab_type": "code",
        "colab": {}
      },
      "source": [
        "BUFFER_SIZE = 10000\n",
        "BATCH_SIZE = 64"
      ],
      "execution_count": 0,
      "outputs": []
    },
    {
      "cell_type": "code",
      "metadata": {
        "id": "BWPRnrwsVhzj",
        "colab_type": "code",
        "colab": {}
      },
      "source": [
        "train_dataset = train_dataset.shuffle(BUFFER_SIZE)\n",
        "train_dataset = train_dataset.padded_batch(BATCH_SIZE, train_dataset.output_shapes)\n",
        "\n",
        "test_dataset = test_dataset.padded_batch(BATCH_SIZE, test_dataset.output_shapes)"
      ],
      "execution_count": 0,
      "outputs": []
    },
    {
      "cell_type": "code",
      "metadata": {
        "id": "_k91uB_eWJC9",
        "colab_type": "code",
        "colab": {}
      },
      "source": [
        "model = tf.keras.Sequential([\n",
        "    tf.keras.layers.Embedding(encoder.vocab_size, 64),\n",
        "    tf.keras.layers.Bidirectional(tf.keras.layers.LSTM(64)),\n",
        "    tf.keras.layers.Dense(64, activation='relu'),\n",
        "    tf.keras.layers.Dense(1, activation='sigmoid')\n",
        "])"
      ],
      "execution_count": 0,
      "outputs": []
    },
    {
      "cell_type": "code",
      "metadata": {
        "id": "6lFXyZeUWQbD",
        "colab_type": "code",
        "colab": {}
      },
      "source": [
        "model.compile(loss='binary_crossentropy',\n",
        "              optimizer=tf.keras.optimizers.Adam(1e-4),\n",
        "              metrics=['accuracy'])"
      ],
      "execution_count": 0,
      "outputs": []
    },
    {
      "cell_type": "code",
      "metadata": {
        "id": "vHmak5PHWSfC",
        "colab_type": "code",
        "outputId": "a73fb2f3-67e6-4996-d2bb-6c74ce01b3da",
        "colab": {
          "base_uri": "https://localhost:8080/",
          "height": 84
        }
      },
      "source": [
        "history = model.fit(train_dataset, epochs=2,\n",
        "                    validation_data=test_dataset, \n",
        "                    validation_steps=30)"
      ],
      "execution_count": 38,
      "outputs": [
        {
          "output_type": "stream",
          "text": [
            "Epoch 1/2\n",
            "391/391 [==============================] - 932s 2s/step - loss: 0.6790 - accuracy: 0.5722 - val_loss: 0.5380 - val_accuracy: 0.7385\n",
            "Epoch 2/2\n",
            "391/391 [==============================] - 918s 2s/step - loss: 0.4379 - accuracy: 0.8107 - val_loss: 0.3497 - val_accuracy: 0.8578\n"
          ],
          "name": "stdout"
        }
      ]
    },
    {
      "cell_type": "code",
      "metadata": {
        "id": "tiRVJj9oWUjB",
        "colab_type": "code",
        "outputId": "43f76808-c2f1-408b-ae37-5fba4281c41c",
        "colab": {
          "base_uri": "https://localhost:8080/",
          "height": 50
        }
      },
      "source": [
        "test_loss, test_acc = model.evaluate(test_dataset)\n",
        "\n",
        "print('Test Loss: {}'.format(test_loss))\n",
        "print('Test Accuracy: {}'.format(test_acc))"
      ],
      "execution_count": 39,
      "outputs": [
        {
          "output_type": "stream",
          "text": [
            "    391/Unknown - 204s 522ms/step - loss: 0.3544 - accuracy: 0.8533Test Loss: 0.3543778675443986\n",
            "Test Accuracy: 0.8532800078392029\n"
          ],
          "name": "stdout"
        }
      ]
    },
    {
      "cell_type": "code",
      "metadata": {
        "id": "-uGIO3uyWWsq",
        "colab_type": "code",
        "colab": {}
      },
      "source": [
        "def pad_to_size(vec, size):\n",
        "  zeros = [0] * (size - len(vec))\n",
        "  vec.extend(zeros)\n",
        "  return vec"
      ],
      "execution_count": 0,
      "outputs": []
    },
    {
      "cell_type": "code",
      "metadata": {
        "id": "42vAYefUWdUM",
        "colab_type": "code",
        "colab": {}
      },
      "source": [
        "def sample_predict(sentence, pad):\n",
        "  encoded_sample_pred_text = encoder.encode(sample_pred_text)\n",
        "\n",
        "  if pad:\n",
        "    encoded_sample_pred_text = pad_to_size(encoded_sample_pred_text, 64)\n",
        "  encoded_sample_pred_text = tf.cast(encoded_sample_pred_text, tf.float32)\n",
        "  predictions = model.predict(tf.expand_dims(encoded_sample_pred_text, 0))\n",
        "\n",
        "  return (predictions)"
      ],
      "execution_count": 0,
      "outputs": []
    },
    {
      "cell_type": "code",
      "metadata": {
        "id": "8kYIK_bFWgGP",
        "colab_type": "code",
        "outputId": "076d18c4-097c-4757-cad8-53a340d8c431",
        "colab": {
          "base_uri": "https://localhost:8080/",
          "height": 279
        }
      },
      "source": [
        "plot_graphs(history, 'accuracy')"
      ],
      "execution_count": 0,
      "outputs": [
        {
          "output_type": "display_data",
          "data": {
            "image/png": "[encoded data removed]",
            "text/plain": [
              "<Figure size 432x288 with 1 Axes>"
            ]
          },
          "metadata": {
            "tags": []
          }
        }
      ]
    },
    {
      "cell_type": "code",
      "metadata": {
        "id": "RFzxb4TBWf5X",
        "colab_type": "code",
        "outputId": "7149b6f2-46e8-4779-9ded-d14f9a2037e6",
        "colab": {
          "base_uri": "https://localhost:8080/",
          "height": 279
        }
      },
      "source": [
        "plot_graphs(history, 'loss')"
      ],
      "execution_count": 0,
      "outputs": [
        {
          "output_type": "display_data",
          "data": {
            "image/png": "[encoded data removed]",
            "text/plain": [
              "<Figure size 432x288 with 1 Axes>"
            ]
          },
          "metadata": {
            "tags": []
          }
        }
      ]
    },
    {
      "cell_type": "markdown",
      "metadata": {
        "id": "pZ7lIEd1C7D7",
        "colab_type": "text"
      },
      "source": [
        "###########################################################"
      ]
    },
    {
      "cell_type": "code",
      "metadata": {
        "id": "Iidi6POBC9Gq",
        "colab_type": "code",
        "outputId": "9051f824-a07d-47fd-c3e7-9407f2823f7e",
        "colab": {
          "base_uri": "https://localhost:8080/",
          "height": 67
        }
      },
      "source": [
        "#import potrzebnych pakietów\n",
        "import torch\n",
        "from torch import nn, optim\n",
        "from torchtext import data, datasets\n",
        "import numpy as np\n",
        "import random\n",
        "\n",
        "!pip install progressbar2\n",
        "\n",
        "from datetime import datetime\n"
      ],
      "execution_count": 44,
      "outputs": [
        {
          "output_type": "stream",
          "text": [
            "Requirement already satisfied: progressbar2 in /usr/local/lib/python3.6/dist-packages (3.38.0)\n",
            "Requirement already satisfied: six in /usr/local/lib/python3.6/dist-packages (from progressbar2) (1.12.0)\n",
            "Requirement already satisfied: python-utils>=2.3.0 in /usr/local/lib/python3.6/dist-packages (from progressbar2) (2.3.0)\n"
          ],
          "name": "stdout"
        }
      ]
    },
    {
      "cell_type": "code",
      "metadata": {
        "id": "oe9tBuYgC9sC",
        "colab_type": "code",
        "colab": {}
      },
      "source": [
        "\n",
        "torch.manual_seed(12)\n",
        "torch.cuda.manual_seed(12)\n",
        "np.random.seed(12)\n",
        "random.seed(12)\n",
        "\n"
      ],
      "execution_count": 0,
      "outputs": []
    },
    {
      "cell_type": "code",
      "metadata": {
        "id": "17l_gYJUC9jd",
        "colab_type": "code",
        "colab": {}
      },
      "source": [
        "USE_GPU=0\n",
        "#Sprawdzanie czy CUDA jest włączone, a sprawdzamy to po to żeby wiedziec czy bedziemy korzystali z mocy obliczeniowej co pomoże nam szybciej przetrenować sieć\n",
        "device = torch.device('cuda' if (torch.cuda.is_available() and USE_GPU) else 'cpu')"
      ],
      "execution_count": 0,
      "outputs": []
    },
    {
      "cell_type": "code",
      "metadata": {
        "id": "rGPxzb93C9VS",
        "colab_type": "code",
        "colab": {}
      },
      "source": [
        "#funkcja dzieląca nasz tekst na słowa\n",
        "def tokenize(text):\n",
        "    return text.lower().split()"
      ],
      "execution_count": 0,
      "outputs": []
    },
    {
      "cell_type": "code",
      "metadata": {
        "id": "k0ot-y0iC9JO",
        "colab_type": "code",
        "colab": {}
      },
      "source": [
        "# funckja dokładności, pomoże nam policzyć dokładność klasyfikacji\n",
        "def accuracy(preds, y):\n",
        "    \n",
        "    preds = torch.nn.functional.softmax(preds, dim=1)\n",
        "    # maksymalne wartosci we wierszu\n",
        "    _, indices = preds.max(dim=1)\n",
        "    \n",
        "    correct = (indices == y).float()  \n",
        "    acc = correct.sum()/len(correct)\n",
        "    return acc"
      ],
      "execution_count": 0,
      "outputs": []
    },
    {
      "cell_type": "code",
      "metadata": {
        "id": "O2kUQgCYDLoi",
        "colab_type": "code",
        "outputId": "b531095a-5f63-44bb-bd7c-b4216770df46",
        "colab": {
          "base_uri": "https://localhost:8080/",
          "height": 67
        }
      },
      "source": [
        "#wczytywanie danych\n",
        "#definiujemy text odpowiednie za przetworzenie tekstu i etykiety - neg i pos\n",
        "TEXT = data.Field(lower=True,\n",
        "                  include_lengths=True,\n",
        "                  tokenize=tokenize)\n",
        "LABEL = data.LabelField()\n",
        "\n",
        "#wczytujemy\n",
        "train_ds, valid_ds = datasets.IMDB.splits(TEXT, LABEL)\n",
        "\n",
        "#długości danych\n",
        "print(f'train={len(train_ds)} valid={len(valid_ds)}')"
      ],
      "execution_count": 49,
      "outputs": [
        {
          "output_type": "stream",
          "text": [
            "downloading aclImdb_v1.tar.gz\n"
          ],
          "name": "stdout"
        },
        {
          "output_type": "stream",
          "text": [
            "aclImdb_v1.tar.gz: 100%|██████████| 84.1M/84.1M [00:10<00:00, 8.16MB/s]\n"
          ],
          "name": "stderr"
        },
        {
          "output_type": "stream",
          "text": [
            "train=25000 valid=25000\n"
          ],
          "name": "stdout"
        }
      ]
    },
    {
      "cell_type": "code",
      "metadata": {
        "id": "PyYRZkg8DLlU",
        "colab_type": "code",
        "outputId": "183a368a-67b3-42ad-9805-af4a8cc50e58",
        "colab": {
          "base_uri": "https://localhost:8080/",
          "height": 121
        }
      },
      "source": [
        "# budowa słownika - ważne! bo zdanie przedstawiamy jako ciąg liczb, budujemy dwa słowniki\n",
        "TEXT.build_vocab(train_ds,\n",
        "                 min_freq=10,\n",
        "                 max_size=10000 ) \n",
        "LABEL.build_vocab(train_ds)\n",
        "\n",
        "print(TEXT.vocab.freqs.most_common(10)) #najpopularniejsze wyrazy\n",
        "print(TEXT.vocab.freqs.most_common()[:-11:-1])\n",
        "vocab = TEXT.vocab\n",
        "\n",
        "vocab_size = len(vocab) # wiekszy rozmiar niz zadalismy bo dodają sie dwa pola automatycznie\n",
        "print(f'vocab_size={vocab_size}')\n",
        "print(list(vocab.stoi.keys())[0:10])\n",
        "\n",
        "print(LABEL.vocab.stoi.keys())"
      ],
      "execution_count": 50,
      "outputs": [
        {
          "output_type": "stream",
          "text": [
            "[('the', 322198), ('a', 159953), ('and', 158572), ('of', 144462), ('to', 133967), ('is', 104171), ('in', 90527), ('i', 70480), ('this', 69714), ('that', 66292)]\n",
            "[('crappily', 1), ('hugging/kissing', 1), ('pictures/posters', 1), ('jackhammered', 1), ('results...', 1), ('s--t!!', 1), ('cynthia)', 1), (\"'loveable'\", 1), ('threatening?', 1), ('encounter?', 1)]\n",
            "vocab_size=10002\n",
            "['<unk>', '<pad>', 'the', 'a', 'and', 'of', 'to', 'is', 'in', 'i']\n",
            "dict_keys(['neg', 'pos'])\n"
          ],
          "name": "stdout"
        }
      ]
    },
    {
      "cell_type": "code",
      "metadata": {
        "id": "cBPNGBAMDLhy",
        "colab_type": "code",
        "colab": {}
      },
      "source": [
        "#parametry\n",
        "n_hid=256\n",
        "n_embed=100\n",
        "n_layers=1\n",
        "batch_size = 8\n",
        "\n",
        "input_dim = vocab_size # 10002 , bo 2 wiecej niz zadalismy\n",
        "output_dim = len(LABEL.vocab) # 2, bo neg i pos"
      ],
      "execution_count": 0,
      "outputs": []
    },
    {
      "cell_type": "code",
      "metadata": {
        "id": "QcSoLOUODLXz",
        "colab_type": "code",
        "outputId": "14a87d9d-5954-44c5-a2e3-73fe325dbb4c",
        "colab": {
          "base_uri": "https://localhost:8080/",
          "height": 84
        }
      },
      "source": [
        "\n",
        "print(f'Parametry modelu')\n",
        "print(f'input_dim={input_dim}, output={output_dim}')\n",
        "print(f'n_layers={n_layers}, n_hid={n_hid} embed={n_embed}')\n",
        "print(f'batch={batch_size}')"
      ],
      "execution_count": 0,
      "outputs": [
        {
          "output_type": "stream",
          "text": [
            "Parametry modelu\n",
            "input_dim=10002, output=2\n",
            "n_layers=1, n_hid=256 embed=100\n",
            "batch=8\n"
          ],
          "name": "stdout"
        }
      ]
    },
    {
      "cell_type": "code",
      "metadata": {
        "id": "Uv9B0cPODRtK",
        "colab_type": "code",
        "colab": {}
      },
      "source": [
        "#tworzenie iteratorów, grupujemy teksty o podobnej długości i pobieramy je w paczkach o rozmiarze batch_size\n",
        "train_iter = data.BucketIterator(\n",
        "    train_ds,\n",
        "    batch_size=batch_size,\n",
        "    sort_key=lambda x: len(x.text),\n",
        "    sort_within_batch=True, device=device)"
      ],
      "execution_count": 0,
      "outputs": []
    },
    {
      "cell_type": "code",
      "metadata": {
        "id": "v7-8lJn1DYLa",
        "colab_type": "code",
        "colab": {}
      },
      "source": [
        "valid_iter = data.BucketIterator(\n",
        "    valid_ds, batch_size=batch_size,\n",
        "    sort_key=lambda x: len(x.text),\n",
        "    sort_within_batch=True, device=device)"
      ],
      "execution_count": 0,
      "outputs": []
    },
    {
      "cell_type": "code",
      "metadata": {
        "id": "ffNFdU2YDYDC",
        "colab_type": "code",
        "colab": {}
      },
      "source": [
        "#budowa modułu\n",
        "class SeqRNN(nn.Module):\n",
        "\n",
        "    def __init__(self, input_dim,\n",
        "                 output_dim, embed_size,\n",
        "                 hidden_size, num_layers=1,\n",
        "                 dropout=0.1,vectors=None ):\n",
        "        super().__init__()\n",
        "\n",
        "        self.embed_size = embed_size\n",
        "        self.hidden_size = hidden_size\n",
        "        self.output_dim = output_dim\n",
        "        self.num_layers = num_layers\n",
        "\n",
        "        self.embed = nn.Embedding(input_dim, embed_size) #kodujemy poszczególne słowa na wektory\n",
        "        if vectors:\n",
        "            self.embed.weight.data.copy_(vectors)\n",
        "\n",
        "        \n",
        "        self.drop = nn.Dropout(dropout)\n",
        "\n",
        "        self.rnn = nn.LSTM(embed_size, hidden_size,\n",
        "                            num_layers, batch_first=False)\n",
        "        \n",
        "        self.linear = nn.Linear(hidden_size, output_dim)\n",
        "\n",
        "    def forward(self, seq):\n",
        "        \n",
        "        len_seq, bs = seq.shape\n",
        "        w_embed = self.embed(seq)\n",
        "        w_embed = self.drop(w_embed)\n",
        "    \n",
        "        output, _ = self.rnn(w_embed)\n",
        "        \n",
        "        \n",
        "        last_output = output[-1, :, :]\n",
        "        \n",
        "        last_output = self.drop(last_output)\n",
        "\n",
        "        out = self.linear(last_output)\n",
        "        return out"
      ],
      "execution_count": 0,
      "outputs": []
    },
    {
      "cell_type": "code",
      "metadata": {
        "id": "XAxdvO_2DXf6",
        "colab_type": "code",
        "outputId": "1af4916a-b81c-4f89-9d34-6bfe803b34af",
        "colab": {
          "base_uri": "https://localhost:8080/",
          "height": 118
        }
      },
      "source": [
        "model = SeqRNN(input_dim=input_dim,\n",
        "               output_dim=output_dim,\n",
        "               embed_size=n_embed, hidden_size=n_hid)\n",
        "model.to(device)"
      ],
      "execution_count": 55,
      "outputs": [
        {
          "output_type": "execute_result",
          "data": {
            "text/plain": [
              "SeqRNN(\n",
              "  (embed): Embedding(10002, 100)\n",
              "  (drop): Dropout(p=0.1, inplace=False)\n",
              "  (rnn): LSTM(100, 256)\n",
              "  (linear): Linear(in_features=256, out_features=2, bias=True)\n",
              ")"
            ]
          },
          "metadata": {
            "tags": []
          },
          "execution_count": 55
        }
      ]
    },
    {
      "cell_type": "code",
      "metadata": {
        "id": "hkXOaaMODXVS",
        "colab_type": "code",
        "colab": {}
      },
      "source": [
        "#funckja straty\n",
        "criterion = nn.CrossEntropyLoss()\n",
        "optimizer = optim.Adam(model.parameters())\n",
        "\n",
        "epoch_loss = 0\n",
        "epoch_acc = 0\n",
        "epoch = 1"
      ],
      "execution_count": 0,
      "outputs": []
    },
    {
      "cell_type": "code",
      "metadata": {
        "id": "D6pYJtPgDel6",
        "colab_type": "code",
        "outputId": "17b3a1c8-dcd0-46e8-f497-fc1f37b61bf1",
        "colab": {
          "base_uri": "https://localhost:8080/",
          "height": 34
        }
      },
      "source": [
        "for e in range(epoch):\n",
        "\n",
        "    start_time = datetime.now()\n",
        "    model.train()\n",
        "    \n",
        "    for batch_idx, batch in enumerate(train_iter):\n",
        "        model.zero_grad()\n",
        "        \n",
        "        batch_text = batch.text[0].to(device) \n",
        "        batch_label = batch.label.to(device)\n",
        "        \n",
        "        predictions = model(batch_text)\n",
        "        \n",
        "        loss = criterion(predictions, batch_label)\n",
        "        epoch_loss += loss.item()\n",
        "\n",
        "        # wsteczna propagacja\n",
        "        loss.backward()\n",
        "        optimizer.step()\n",
        "\n",
        "       \n",
        "\n",
        "   \n",
        "    epoch_loss = epoch_loss / len(train_iter)\n",
        "\n",
        "    time_elapsed = datetime.now() - start_time\n",
        "\n",
        "   \n",
        "    model.eval()\n",
        "    with torch.no_grad():\n",
        "        for batch_idx, batch in enumerate(valid_iter):\n",
        "            \n",
        "            batch_text = batch.text[0] \n",
        "            batch_label = batch.label\n",
        "            # dane wyjściowe modelu\n",
        "            predictions = model(batch_text)\n",
        "            # obliczamy dokładność\n",
        "            acc = accuracy(predictions, batch_label)\n",
        "\n",
        "            epoch_acc += acc\n",
        "            \n",
        "\n",
        "    epoch_acc = epoch_acc/len(valid_iter)\n",
        "   \n",
        "\n",
        "    # podsumowanie\n",
        "    print(\n",
        "        f'Epoch {e}/{epoch} loss={epoch_loss} acc={epoch_acc} time={time_elapsed}')\n",
        "    epoch_loss = 0\n",
        "    epoch_acc = 0"
      ],
      "execution_count": 57,
      "outputs": [
        {
          "output_type": "stream",
          "text": [
            "Epoch 0/1 loss=0.6498711192369461 acc=0.7609599828720093 time=0:35:03.906210\n"
          ],
          "name": "stdout"
        }
      ]
    },
    {
      "cell_type": "code",
      "metadata": {
        "id": "VmZ33qW-NWQC",
        "colab_type": "code",
        "colab": {}
      },
      "source": [
        ""
      ],
      "execution_count": 0,
      "outputs": []
    }
  ]
}