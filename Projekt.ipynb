{
  "nbformat": 4,
  "nbformat_minor": 0,
  "metadata": {
    "colab": {
      "name": "Projekt.ipynb",
      "provenance": [],
      "collapsed_sections": []
    },
    "kernelspec": {
      "name": "python3",
      "display_name": "Python 3"
    }
  },
  "cells": [
    {
      "cell_type": "markdown",
      "metadata": {
        "id": "D8_0C2Qz0B4T",
        "colab_type": "text"
      },
      "source": [
        "\n",
        "\n",
        "#Analiza sentymentu\n"
      ]
    },
    {
      "cell_type": "code",
      "metadata": {
        "id": "3EF6W-1QO-S-",
        "colab_type": "code",
        "outputId": "952215e3-ee59-4676-dcf8-0b49b8745bc8",
        "colab": {
          "base_uri": "https://localhost:8080/",
          "height": 353
        }
      },
      "source": [
        "!pip install tfds-nightly"
      ],
      "execution_count": 1,
      "outputs": [
        {
          "output_type": "stream",
          "text": [
            "Requirement already satisfied: tfds-nightly in /usr/local/lib/python3.6/dist-packages (1.3.2.dev202001140105)\n",
            "Requirement already satisfied: dill in /usr/local/lib/python3.6/dist-packages (from tfds-nightly) (0.3.1.1)\n",
            "Requirement already satisfied: tqdm in /usr/local/lib/python3.6/dist-packages (from tfds-nightly) (4.28.1)\n",
            "Requirement already satisfied: attrs>=18.1.0 in /usr/local/lib/python3.6/dist-packages (from tfds-nightly) (19.3.0)\n",
            "Requirement already satisfied: future in /usr/local/lib/python3.6/dist-packages (from tfds-nightly) (0.16.0)\n",
            "Requirement already satisfied: tensorflow-metadata in /usr/local/lib/python3.6/dist-packages (from tfds-nightly) (0.15.2)\n",
            "Requirement already satisfied: wrapt in /usr/local/lib/python3.6/dist-packages (from tfds-nightly) (1.11.2)\n",
            "Requirement already satisfied: termcolor in /usr/local/lib/python3.6/dist-packages (from tfds-nightly) (1.1.0)\n",
            "Requirement already satisfied: requests>=2.19.0 in /usr/local/lib/python3.6/dist-packages (from tfds-nightly) (2.21.0)\n",
            "Requirement already satisfied: promise in /usr/local/lib/python3.6/dist-packages (from tfds-nightly) (2.3)\n",
            "Requirement already satisfied: absl-py in /usr/local/lib/python3.6/dist-packages (from tfds-nightly) (0.9.0)\n",
            "Requirement already satisfied: six in /usr/local/lib/python3.6/dist-packages (from tfds-nightly) (1.12.0)\n",
            "Requirement already satisfied: protobuf>=3.6.1 in /usr/local/lib/python3.6/dist-packages (from tfds-nightly) (3.10.0)\n",
            "Requirement already satisfied: numpy in /usr/local/lib/python3.6/dist-packages (from tfds-nightly) (1.17.5)\n",
            "Requirement already satisfied: googleapis-common-protos in /usr/local/lib/python3.6/dist-packages (from tensorflow-metadata->tfds-nightly) (1.6.0)\n",
            "Requirement already satisfied: chardet<3.1.0,>=3.0.2 in /usr/local/lib/python3.6/dist-packages (from requests>=2.19.0->tfds-nightly) (3.0.4)\n",
            "Requirement already satisfied: idna<2.9,>=2.5 in /usr/local/lib/python3.6/dist-packages (from requests>=2.19.0->tfds-nightly) (2.8)\n",
            "Requirement already satisfied: certifi>=2017.4.17 in /usr/local/lib/python3.6/dist-packages (from requests>=2.19.0->tfds-nightly) (2019.11.28)\n",
            "Requirement already satisfied: urllib3<1.25,>=1.21.1 in /usr/local/lib/python3.6/dist-packages (from requests>=2.19.0->tfds-nightly) (1.24.3)\n",
            "Requirement already satisfied: setuptools in /usr/local/lib/python3.6/dist-packages (from protobuf>=3.6.1->tfds-nightly) (42.0.2)\n"
          ],
          "name": "stdout"
        }
      ]
    },
    {
      "cell_type": "code",
      "metadata": {
        "id": "RMUH8CywYAty",
        "colab_type": "code",
        "outputId": "27ae61ba-968e-4ca6-fe40-61763d1e2bc5",
        "colab": {
          "base_uri": "https://localhost:8080/",
          "height": 625
        }
      },
      "source": [
        "!pip install -U tensorflow"
      ],
      "execution_count": 2,
      "outputs": [
        {
          "output_type": "stream",
          "text": [
            "Requirement already up-to-date: tensorflow in /usr/local/lib/python3.6/dist-packages (2.1.0)\n",
            "Requirement already satisfied, skipping upgrade: grpcio>=1.8.6 in /usr/local/lib/python3.6/dist-packages (from tensorflow) (1.15.0)\n",
            "Requirement already satisfied, skipping upgrade: google-pasta>=0.1.6 in /usr/local/lib/python3.6/dist-packages (from tensorflow) (0.1.8)\n",
            "Requirement already satisfied, skipping upgrade: scipy==1.4.1; python_version >= \"3\" in /usr/local/lib/python3.6/dist-packages (from tensorflow) (1.4.1)\n",
            "Requirement already satisfied, skipping upgrade: six>=1.12.0 in /usr/local/lib/python3.6/dist-packages (from tensorflow) (1.12.0)\n",
            "Requirement already satisfied, skipping upgrade: tensorflow-estimator<2.2.0,>=2.1.0rc0 in /usr/local/lib/python3.6/dist-packages (from tensorflow) (2.1.0)\n",
            "Requirement already satisfied, skipping upgrade: opt-einsum>=2.3.2 in /usr/local/lib/python3.6/dist-packages (from tensorflow) (3.1.0)\n",
            "Requirement already satisfied, skipping upgrade: wrapt>=1.11.1 in /usr/local/lib/python3.6/dist-packages (from tensorflow) (1.11.2)\n",
            "Requirement already satisfied, skipping upgrade: keras-preprocessing>=1.1.0 in /usr/local/lib/python3.6/dist-packages (from tensorflow) (1.1.0)\n",
            "Requirement already satisfied, skipping upgrade: gast==0.2.2 in /usr/local/lib/python3.6/dist-packages (from tensorflow) (0.2.2)\n",
            "Requirement already satisfied, skipping upgrade: astor>=0.6.0 in /usr/local/lib/python3.6/dist-packages (from tensorflow) (0.8.1)\n",
            "Requirement already satisfied, skipping upgrade: tensorboard<2.2.0,>=2.1.0 in /usr/local/lib/python3.6/dist-packages (from tensorflow) (2.1.0)\n",
            "Requirement already satisfied, skipping upgrade: numpy<2.0,>=1.16.0 in /usr/local/lib/python3.6/dist-packages (from tensorflow) (1.17.5)\n",
            "Requirement already satisfied, skipping upgrade: absl-py>=0.7.0 in /usr/local/lib/python3.6/dist-packages (from tensorflow) (0.9.0)\n",
            "Requirement already satisfied, skipping upgrade: keras-applications>=1.0.8 in /usr/local/lib/python3.6/dist-packages (from tensorflow) (1.0.8)\n",
            "Requirement already satisfied, skipping upgrade: wheel>=0.26; python_version >= \"3\" in /usr/local/lib/python3.6/dist-packages (from tensorflow) (0.33.6)\n",
            "Requirement already satisfied, skipping upgrade: protobuf>=3.8.0 in /usr/local/lib/python3.6/dist-packages (from tensorflow) (3.10.0)\n",
            "Requirement already satisfied, skipping upgrade: termcolor>=1.1.0 in /usr/local/lib/python3.6/dist-packages (from tensorflow) (1.1.0)\n",
            "Requirement already satisfied, skipping upgrade: requests<3,>=2.21.0 in /usr/local/lib/python3.6/dist-packages (from tensorboard<2.2.0,>=2.1.0->tensorflow) (2.21.0)\n",
            "Requirement already satisfied, skipping upgrade: setuptools>=41.0.0 in /usr/local/lib/python3.6/dist-packages (from tensorboard<2.2.0,>=2.1.0->tensorflow) (42.0.2)\n",
            "Requirement already satisfied, skipping upgrade: markdown>=2.6.8 in /usr/local/lib/python3.6/dist-packages (from tensorboard<2.2.0,>=2.1.0->tensorflow) (3.1.1)\n",
            "Requirement already satisfied, skipping upgrade: google-auth<2,>=1.6.3 in /usr/local/lib/python3.6/dist-packages (from tensorboard<2.2.0,>=2.1.0->tensorflow) (1.10.0)\n",
            "Requirement already satisfied, skipping upgrade: werkzeug>=0.11.15 in /usr/local/lib/python3.6/dist-packages (from tensorboard<2.2.0,>=2.1.0->tensorflow) (0.16.0)\n",
            "Requirement already satisfied, skipping upgrade: google-auth-oauthlib<0.5,>=0.4.1 in /usr/local/lib/python3.6/dist-packages (from tensorboard<2.2.0,>=2.1.0->tensorflow) (0.4.1)\n",
            "Requirement already satisfied, skipping upgrade: h5py in /usr/local/lib/python3.6/dist-packages (from keras-applications>=1.0.8->tensorflow) (2.8.0)\n",
            "Requirement already satisfied, skipping upgrade: chardet<3.1.0,>=3.0.2 in /usr/local/lib/python3.6/dist-packages (from requests<3,>=2.21.0->tensorboard<2.2.0,>=2.1.0->tensorflow) (3.0.4)\n",
            "Requirement already satisfied, skipping upgrade: idna<2.9,>=2.5 in /usr/local/lib/python3.6/dist-packages (from requests<3,>=2.21.0->tensorboard<2.2.0,>=2.1.0->tensorflow) (2.8)\n",
            "Requirement already satisfied, skipping upgrade: certifi>=2017.4.17 in /usr/local/lib/python3.6/dist-packages (from requests<3,>=2.21.0->tensorboard<2.2.0,>=2.1.0->tensorflow) (2019.11.28)\n",
            "Requirement already satisfied, skipping upgrade: urllib3<1.25,>=1.21.1 in /usr/local/lib/python3.6/dist-packages (from requests<3,>=2.21.0->tensorboard<2.2.0,>=2.1.0->tensorflow) (1.24.3)\n",
            "Requirement already satisfied, skipping upgrade: rsa<4.1,>=3.1.4 in /usr/local/lib/python3.6/dist-packages (from google-auth<2,>=1.6.3->tensorboard<2.2.0,>=2.1.0->tensorflow) (4.0)\n",
            "Requirement already satisfied, skipping upgrade: cachetools<5.0,>=2.0.0 in /usr/local/lib/python3.6/dist-packages (from google-auth<2,>=1.6.3->tensorboard<2.2.0,>=2.1.0->tensorflow) (4.0.0)\n",
            "Requirement already satisfied, skipping upgrade: pyasn1-modules>=0.2.1 in /usr/local/lib/python3.6/dist-packages (from google-auth<2,>=1.6.3->tensorboard<2.2.0,>=2.1.0->tensorflow) (0.2.7)\n",
            "Requirement already satisfied, skipping upgrade: requests-oauthlib>=0.7.0 in /usr/local/lib/python3.6/dist-packages (from google-auth-oauthlib<0.5,>=0.4.1->tensorboard<2.2.0,>=2.1.0->tensorflow) (1.3.0)\n",
            "Requirement already satisfied, skipping upgrade: pyasn1>=0.1.3 in /usr/local/lib/python3.6/dist-packages (from rsa<4.1,>=3.1.4->google-auth<2,>=1.6.3->tensorboard<2.2.0,>=2.1.0->tensorflow) (0.4.8)\n",
            "Requirement already satisfied, skipping upgrade: oauthlib>=3.0.0 in /usr/local/lib/python3.6/dist-packages (from requests-oauthlib>=0.7.0->google-auth-oauthlib<0.5,>=0.4.1->tensorboard<2.2.0,>=2.1.0->tensorflow) (3.1.0)\n"
          ],
          "name": "stdout"
        }
      ]
    },
    {
      "cell_type": "code",
      "metadata": {
        "id": "wYLSx0vGYNNw",
        "colab_type": "code",
        "colab": {}
      },
      "source": [
        "import tensorflow as tf\n",
        "import numpy as np"
      ],
      "execution_count": 0,
      "outputs": []
    },
    {
      "cell_type": "code",
      "metadata": {
        "id": "HzzLwFwJYZRe",
        "colab_type": "code",
        "colab": {}
      },
      "source": [
        "from tensorflow import keras"
      ],
      "execution_count": 0,
      "outputs": []
    },
    {
      "cell_type": "code",
      "metadata": {
        "id": "pr49LWw2pp_n",
        "colab_type": "code",
        "colab": {}
      },
      "source": [
        "import tensorflow_datasets as tfds"
      ],
      "execution_count": 0,
      "outputs": []
    },
    {
      "cell_type": "code",
      "metadata": {
        "id": "ybjvyNRMqEQ4",
        "colab_type": "code",
        "colab": {}
      },
      "source": [
        "(train_data, test_data), info = tfds.load(\n",
        "    'imdb_reviews/subwords8k', \n",
        "    split = (tfds.Split.TRAIN, tfds.Split.TEST),\n",
        "    as_supervised=True,\n",
        "    with_info=True)"
      ],
      "execution_count": 0,
      "outputs": []
    },
    {
      "cell_type": "markdown",
      "metadata": {
        "id": "zxKmF39ecDUz",
        "colab_type": "text"
      },
      "source": [
        "#Eksploracyjna Analiza danych\n",
        "\n"
      ]
    },
    {
      "cell_type": "markdown",
      "metadata": {
        "id": "ALb49rHcddS-",
        "colab_type": "text"
      },
      "source": [
        "Liczba danych testowych:"
      ]
    },
    {
      "cell_type": "code",
      "metadata": {
        "id": "30q3XfOorI3l",
        "colab_type": "code",
        "outputId": "3052ebdf-b4df-4f54-dde8-15d5560bcd89",
        "colab": {
          "base_uri": "https://localhost:8080/",
          "height": 34
        }
      },
      "source": [
        "info.splits['test'].num_examples"
      ],
      "execution_count": 7,
      "outputs": [
        {
          "output_type": "execute_result",
          "data": {
            "text/plain": [
              "25000"
            ]
          },
          "metadata": {
            "tags": []
          },
          "execution_count": 7
        }
      ]
    },
    {
      "cell_type": "markdown",
      "metadata": {
        "id": "WunRNylldunJ",
        "colab_type": "text"
      },
      "source": [
        "Liczba danych treningowych: "
      ]
    },
    {
      "cell_type": "code",
      "metadata": {
        "id": "KwTUC0k-fOgP",
        "colab_type": "code",
        "outputId": "328154ce-ec43-48c1-eee9-e20c0bf83706",
        "colab": {
          "base_uri": "https://localhost:8080/",
          "height": 34
        }
      },
      "source": [
        "info.splits['train'].num_examples"
      ],
      "execution_count": 8,
      "outputs": [
        {
          "output_type": "execute_result",
          "data": {
            "text/plain": [
              "25000"
            ]
          },
          "metadata": {
            "tags": []
          },
          "execution_count": 8
        }
      ]
    },
    {
      "cell_type": "markdown",
      "metadata": {
        "id": "bk093F0Ud2ea",
        "colab_type": "text"
      },
      "source": [
        "Liczba danych ze zbioru unsupervised:"
      ]
    },
    {
      "cell_type": "code",
      "metadata": {
        "id": "wI8Z-R9igVhk",
        "colab_type": "code",
        "outputId": "b7f51111-d600-4da3-8be6-46bcccd3fc8e",
        "colab": {
          "base_uri": "https://localhost:8080/",
          "height": 34
        }
      },
      "source": [
        "info.splits['unsupervised'].num_examples"
      ],
      "execution_count": 9,
      "outputs": [
        {
          "output_type": "execute_result",
          "data": {
            "text/plain": [
              "50000"
            ]
          },
          "metadata": {
            "tags": []
          },
          "execution_count": 9
        }
      ]
    },
    {
      "cell_type": "code",
      "metadata": {
        "id": "Gj6rq8e9fQeQ",
        "colab_type": "code",
        "outputId": "e66e6a0b-d5d3-440e-e173-92d71b29b12f",
        "colab": {
          "base_uri": "https://localhost:8080/",
          "height": 34
        }
      },
      "source": [
        "#Liczba klas (0 i 1 gdzie 0 - negatywne, 1 - pozytywne)\n",
        "info.features['label'].num_classes"
      ],
      "execution_count": 10,
      "outputs": [
        {
          "output_type": "execute_result",
          "data": {
            "text/plain": [
              "2"
            ]
          },
          "metadata": {
            "tags": []
          },
          "execution_count": 10
        }
      ]
    },
    {
      "cell_type": "code",
      "metadata": {
        "id": "5jfczyHJrylu",
        "colab_type": "code",
        "colab": {}
      },
      "source": [
        "encoder = info.features['text'].encoder\n",
        "data = [i for i in train_data]\n"
      ],
      "execution_count": 0,
      "outputs": []
    },
    {
      "cell_type": "markdown",
      "metadata": {
        "id": "UjhlOrXV4kiK",
        "colab_type": "text"
      },
      "source": [
        "Dla ułatwienia stworzymy sobie funkcje, które będa mówić nam jaki sentyment ma recenzja o danym id oraz takie, które wyświetlą nam przykładowe recenzje pozytywne oraz negatywne z zadanego zbioru id."
      ]
    },
    {
      "cell_type": "code",
      "metadata": {
        "id": "Co5qcdY_phk2",
        "colab_type": "code",
        "colab": {}
      },
      "source": [
        "def jaki_sentyment_dla_id(id):\n",
        "  if ((data[id][1]).numpy()==0):\n",
        "    print(\"Recenzja negatywna\")\n",
        "  else:\n",
        "    print(\"Recenzja pozytywna\")\n",
        "\n",
        "def przykladowa_pozytywna(od_id,do_id):       \n",
        "  for i in range(od_id,do_id):\n",
        "    if ((data[i][1]).numpy()==1):\n",
        "      print(\"Id recenzji: \",i)\n",
        "      return encoder.decode(data[i][0].numpy())\n",
        "def przykladowa_negatywna(od_id,do_id):       \n",
        "  for i in range(od_id,do_id):\n",
        "    if ((data[i][1]).numpy()==0):\n",
        "      print(\"Id recenzji: \",i)\n",
        "      return encoder.decode(data[i][0].numpy())\n",
        "  print(\"Dla id od {} do {} nie ma negatywnej recenzji\".format(od_id, do_id))"
      ],
      "execution_count": 0,
      "outputs": []
    },
    {
      "cell_type": "markdown",
      "metadata": {
        "id": "U5jE2MoH4WE_",
        "colab_type": "text"
      },
      "source": [
        "Wyświetlimy teraz przykładową recenzje pozytywną, a następnie negatywną."
      ]
    },
    {
      "cell_type": "code",
      "metadata": {
        "id": "a1bdkzom5PIl",
        "colab_type": "code",
        "outputId": "38afc390-206c-4fa3-8098-fddd8370a46a",
        "colab": {
          "base_uri": "https://localhost:8080/",
          "height": 70
        }
      },
      "source": [
        "przykladowa_pozytywna(0,10)"
      ],
      "execution_count": 13,
      "outputs": [
        {
          "output_type": "stream",
          "text": [
            "Id recenzji:  0\n"
          ],
          "name": "stdout"
        },
        {
          "output_type": "execute_result",
          "data": {
            "text/plain": [
              "\"As a lifelong fan of Dickens, I have invariably been disappointed by adaptations of his novels.<br /><br />Although his works presented an extremely accurate re-telling of human life at every level in Victorian Britain, throughout them all was a pervasive thread of humour that could be both playful or sarcastic as the narrative dictated. In a way, he was a literary caricaturist and cartoonist. He could be serious and hilarious in the same sentence. He pricked pride, lampooned arrogance, celebrated modesty, and empathised with loneliness and poverty. It may be a cliché, but he was a people's writer.<br /><br />And it is the comedy that is so often missing from his interpretations. At the time of writing, Oliver Twist is being dramatised in serial form on BBC television. All of the misery and cruelty is their, but non of the humour, irony, and savage lampoonery. The result is just a dark, dismal experience: the story penned by a journalist rather than a novelist. It's not really Dickens at all.<br /><br />'Oliver!', on the other hand, is much closer to the mark. The mockery of officialdom is perfectly interpreted, from the blustering beadle to the drunken magistrate. The classic stand-off between the beadle and Mr Brownlow, in which the law is described as 'a ass, a idiot' couldn't have been better done. Harry Secombe is an ideal choice.<br /><br />But the blinding cruelty is also there, the callous indifference of the state, the cold, hunger, poverty and loneliness are all presented just as surely as The Master would have wished.<br /><br />And then there is crime. Ron Moody is a treasure as the sleazy Jewish fence, whilst Oliver Reid has Bill Sykes to perfection.<br /><br />Perhaps not surprisingly, Lionel Bart - himself a Jew from London's east-end - takes a liberty with Fagin by re-interpreting him as a much more benign fellow than was Dicken's original. In the novel, he was utterly ruthless, sending some of his own boys to the gallows in order to protect himself (though he was also caught and hanged). Whereas in the movie, he is presented as something of a wayward father-figure, a sort of charitable thief rather than a corrupter of children, the latter being a long-standing anti-semitic sentiment. Otherwise, very few liberties are taken with Dickens's original. All of the most memorable elements are included. Just enough menace and violence is retained to ensure narrative fidelity whilst at the same time allowing for children' sensibilities. Nancy is still beaten to death, Bullseye narrowly escapes drowning, and Bill Sykes gets a faithfully graphic come-uppance.<br /><br />Every song is excellent, though they do incline towards schmaltz. Mark Lester mimes his wonderfully. Both his and my favourite scene is the one in which the world comes alive to 'who will buy'. It's schmaltzy, but it's Dickens through and through.<br /><br />I could go on. I could commend the wonderful set-pieces, the contrast of the rich and poor. There is top-quality acting from more British regulars than you could shake a stick at.<br /><br />I ought to give it 10 points, but I'm feeling more like Scrooge today. Soak it up with your Christmas dinner. No original has been better realised.\""
            ]
          },
          "metadata": {
            "tags": []
          },
          "execution_count": 13
        }
      ]
    },
    {
      "cell_type": "code",
      "metadata": {
        "id": "WVDSDVygvK3N",
        "colab_type": "code",
        "outputId": "f81d773c-86dc-4916-af92-3d4159a10efa",
        "colab": {
          "base_uri": "https://localhost:8080/",
          "height": 70
        }
      },
      "source": [
        "przykladowa_negatywna(0,10)"
      ],
      "execution_count": 14,
      "outputs": [
        {
          "output_type": "stream",
          "text": [
            "Id recenzji:  6\n"
          ],
          "name": "stdout"
        },
        {
          "output_type": "execute_result",
          "data": {
            "text/plain": [
              "'Just because someone is under the age of 10 does not mean they are stupid. If your child likes this film you\\'d better have him/her tested. I am continually amazed at how so many people can be involved in something that turns out so bad. This \"film\" is a showcase for digital wizardry AND NOTHING ELSE. The writing is horrid. I can\\'t remember when I\\'ve heard such bad dialogue. The songs are beyond wretched. The acting is sub-par but then the actors were not given much. Who decided to employ Joey Fatone? He cannot sing and he is ugly as sin.<br /><br />The worst thing is the obviousness of it all. It is as if the writers went out of their way to make it all as stupid as possible. Great children\\'s movies are wicked, smart and full of wit - films like Shrek and Toy Story in recent years, Willie Wonka and The Witches to mention two of the past. But in the continual dumbing-down of American more are flocking to dreck like Finding Nemo (yes, that\\'s right), the recent Charlie & The Chocolate Factory and eye-crossing trash like Red Riding Hood.'"
            ]
          },
          "metadata": {
            "tags": []
          },
          "execution_count": 14
        }
      ]
    },
    {
      "cell_type": "code",
      "metadata": {
        "id": "6hT72opFqx8t",
        "colab_type": "code",
        "outputId": "e34ae467-9536-4eca-9a37-dafa89e2a557",
        "colab": {
          "base_uri": "https://localhost:8080/",
          "height": 34
        }
      },
      "source": [
        "jaki_sentyment_dla_id(123)"
      ],
      "execution_count": 15,
      "outputs": [
        {
          "output_type": "stream",
          "text": [
            "Recenzja pozytywna\n"
          ],
          "name": "stdout"
        }
      ]
    },
    {
      "cell_type": "code",
      "metadata": {
        "id": "LC5avsgvy4ss",
        "colab_type": "code",
        "outputId": "c60eeeb7-2bc2-4c99-d391-01738b6ba280",
        "colab": {
          "base_uri": "https://localhost:8080/",
          "height": 558
        }
      },
      "source": [
        "print(info)"
      ],
      "execution_count": 16,
      "outputs": [
        {
          "output_type": "stream",
          "text": [
            "tfds.core.DatasetInfo(\n",
            "    name='imdb_reviews',\n",
            "    version=0.1.0,\n",
            "    description='Large Movie Review Dataset.\n",
            "This is a dataset for binary sentiment classification containing substantially more data than previous benchmark datasets. We provide a set of 25,000 highly polar movie reviews for training, and 25,000 for testing. There is additional unlabeled data for use as well.',\n",
            "    homepage='http://ai.stanford.edu/~amaas/data/sentiment/',\n",
            "    features=FeaturesDict({\n",
            "        'label': ClassLabel(shape=(), dtype=tf.int64, num_classes=2),\n",
            "        'text': Text(shape=(None,), dtype=tf.int64, encoder=<SubwordTextEncoder vocab_size=8185>),\n",
            "    }),\n",
            "    total_num_examples=100000,\n",
            "    splits={\n",
            "        'test': 25000,\n",
            "        'train': 25000,\n",
            "        'unsupervised': 50000,\n",
            "    },\n",
            "    supervised_keys=('text', 'label'),\n",
            "    citation=\"\"\"@InProceedings{maas-EtAl:2011:ACL-HLT2011,\n",
            "      author    = {Maas, Andrew L.  and  Daly, Raymond E.  and  Pham, Peter T.  and  Huang, Dan  and  Ng, Andrew Y.  and  Potts, Christopher},\n",
            "      title     = {Learning Word Vectors for Sentiment Analysis},\n",
            "      booktitle = {Proceedings of the 49th Annual Meeting of the Association for Computational Linguistics: Human Language Technologies},\n",
            "      month     = {June},\n",
            "      year      = {2011},\n",
            "      address   = {Portland, Oregon, USA},\n",
            "      publisher = {Association for Computational Linguistics},\n",
            "      pages     = {142--150},\n",
            "      url       = {http://www.aclweb.org/anthology/P11-1015}\n",
            "    }\"\"\",\n",
            "    redistribution_info=,\n",
            ")\n",
            "\n"
          ],
          "name": "stdout"
        }
      ]
    },
    {
      "cell_type": "markdown",
      "metadata": {
        "id": "vK0RL9lMqHDg",
        "colab_type": "text"
      },
      "source": [
        "#Model\n"
      ]
    },
    {
      "cell_type": "code",
      "metadata": {
        "id": "pw__sp4yKpOy",
        "colab_type": "code",
        "colab": {
          "base_uri": "https://localhost:8080/",
          "height": 138
        },
        "outputId": "2d8c0837-6942-4bb1-9b79-c18651d7b672"
      },
      "source": [
        "BUFFER_SIZE = 1000\n",
        "\n",
        "train_batches = (\n",
        "    train_data\n",
        "    .shuffle(BUFFER_SIZE)\n",
        "    .padded_batch(32, train_data.output_shapes))\n",
        "\n",
        "test_batches = (\n",
        "    test_data\n",
        "    .padded_batch(32, train_data.output_shapes))"
      ],
      "execution_count": 17,
      "outputs": [
        {
          "output_type": "stream",
          "text": [
            "WARNING:tensorflow:From <ipython-input-17-5710cd302ddc>:6: DatasetV1.output_shapes (from tensorflow.python.data.ops.dataset_ops) is deprecated and will be removed in a future version.\n",
            "Instructions for updating:\n",
            "Use `tf.compat.v1.data.get_output_shapes(dataset)`.\n"
          ],
          "name": "stdout"
        },
        {
          "output_type": "stream",
          "text": [
            "WARNING:tensorflow:From <ipython-input-17-5710cd302ddc>:6: DatasetV1.output_shapes (from tensorflow.python.data.ops.dataset_ops) is deprecated and will be removed in a future version.\n",
            "Instructions for updating:\n",
            "Use `tf.compat.v1.data.get_output_shapes(dataset)`.\n"
          ],
          "name": "stderr"
        }
      ]
    },
    {
      "cell_type": "code",
      "metadata": {
        "id": "zSarT0jzxslq",
        "colab_type": "code",
        "outputId": "0b64d010-dc13-4cb1-fbd3-b32b9532089c",
        "colab": {
          "base_uri": "https://localhost:8080/",
          "height": 252
        }
      },
      "source": [
        "model = keras.Sequential([\n",
        "  keras.layers.Embedding(encoder.vocab_size, 16),\n",
        "  keras.layers.GlobalAveragePooling1D(),\n",
        "  keras.layers.Dense(1, activation='sigmoid')])\n",
        "\n",
        "model.summary()"
      ],
      "execution_count": 18,
      "outputs": [
        {
          "output_type": "stream",
          "text": [
            "Model: \"sequential\"\n",
            "_________________________________________________________________\n",
            "Layer (type)                 Output Shape              Param #   \n",
            "=================================================================\n",
            "embedding (Embedding)        (None, None, 16)          130960    \n",
            "_________________________________________________________________\n",
            "global_average_pooling1d (Gl (None, 16)                0         \n",
            "_________________________________________________________________\n",
            "dense (Dense)                (None, 1)                 17        \n",
            "=================================================================\n",
            "Total params: 130,977\n",
            "Trainable params: 130,977\n",
            "Non-trainable params: 0\n",
            "_________________________________________________________________\n"
          ],
          "name": "stdout"
        }
      ]
    },
    {
      "cell_type": "markdown",
      "metadata": {
        "id": "CWmHCs5ahL-V",
        "colab_type": "text"
      },
      "source": [
        "`Embedding` jest wartwą, która dokonuje transformacji pojedynczej liczby na rzeczywisty 16-wymiarowy wektor. Jest to w istocie redukcja wymiaru z `encoder.vocab_size` (czyli 8000) do 16."
      ]
    },
    {
      "cell_type": "code",
      "metadata": {
        "id": "M7M7JJhGPkCy",
        "colab_type": "code",
        "colab": {}
      },
      "source": [
        "model.compile(optimizer='adam',\n",
        "              loss='binary_crossentropy',\n",
        "              metrics=['accuracy'])"
      ],
      "execution_count": 0,
      "outputs": []
    },
    {
      "cell_type": "code",
      "metadata": {
        "id": "1fNKkt0OPeLV",
        "colab_type": "code",
        "outputId": "dc73194f-06b2-4c22-cbba-3b8dac6a5818",
        "colab": {
          "base_uri": "https://localhost:8080/",
          "height": 353
        }
      },
      "source": [
        "history = model.fit(train_batches,\n",
        "                    epochs=10,\n",
        "                    validation_data=test_batches,\n",
        "                    validation_steps=30)"
      ],
      "execution_count": 20,
      "outputs": [
        {
          "output_type": "stream",
          "text": [
            "Epoch 1/10\n",
            "782/782 [==============================] - 14s 17ms/step - loss: 0.6821 - accuracy: 0.6227 - val_loss: 0.6632 - val_accuracy: 0.7490\n",
            "Epoch 2/10\n",
            "782/782 [==============================] - 11s 14ms/step - loss: 0.6193 - accuracy: 0.7489 - val_loss: 0.5915 - val_accuracy: 0.7875\n",
            "Epoch 3/10\n",
            "782/782 [==============================] - 10s 13ms/step - loss: 0.5406 - accuracy: 0.8077 - val_loss: 0.5267 - val_accuracy: 0.8188\n",
            "Epoch 4/10\n",
            "782/782 [==============================] - 10s 13ms/step - loss: 0.4753 - accuracy: 0.8391 - val_loss: 0.4776 - val_accuracy: 0.8323\n",
            "Epoch 5/10\n",
            "782/782 [==============================] - 10s 13ms/step - loss: 0.4213 - accuracy: 0.8632 - val_loss: 0.4334 - val_accuracy: 0.8573\n",
            "Epoch 6/10\n",
            "782/782 [==============================] - 10s 13ms/step - loss: 0.3807 - accuracy: 0.8758 - val_loss: 0.4042 - val_accuracy: 0.8594\n",
            "Epoch 7/10\n",
            "782/782 [==============================] - 10s 13ms/step - loss: 0.3499 - accuracy: 0.8859 - val_loss: 0.3763 - val_accuracy: 0.8646\n",
            "Epoch 8/10\n",
            "782/782 [==============================] - 10s 13ms/step - loss: 0.3233 - accuracy: 0.8925 - val_loss: 0.3569 - val_accuracy: 0.8677\n",
            "Epoch 9/10\n",
            "782/782 [==============================] - 10s 13ms/step - loss: 0.3045 - accuracy: 0.8978 - val_loss: 0.3412 - val_accuracy: 0.8792\n",
            "Epoch 10/10\n",
            "782/782 [==============================] - 10s 13ms/step - loss: 0.2866 - accuracy: 0.9048 - val_loss: 0.3297 - val_accuracy: 0.8844\n"
          ],
          "name": "stdout"
        }
      ]
    },
    {
      "cell_type": "code",
      "metadata": {
        "id": "xWGEUoLLPvx8",
        "colab_type": "code",
        "outputId": "d0fa2ba0-e48e-48a5-a3b9-0b946361dd6b",
        "colab": {
          "base_uri": "https://localhost:8080/",
          "height": 50
        }
      },
      "source": [
        "loss, accuracy = model.evaluate(test_batches)\n",
        "\n",
        "print(\"Loss: \", loss)\n",
        "print(\"Accuracy: \", accuracy)"
      ],
      "execution_count": 21,
      "outputs": [
        {
          "output_type": "stream",
          "text": [
            "    782/Unknown - 8s 10ms/step - loss: 0.3344 - accuracy: 0.8724Loss:  0.33443454882639756\n",
            "Accuracy:  0.87244\n"
          ],
          "name": "stdout"
        }
      ]
    },
    {
      "cell_type": "code",
      "metadata": {
        "id": "201fBiZeP0Jq",
        "colab_type": "code",
        "outputId": "813402de-a56e-4913-ccff-b6d234686503",
        "colab": {
          "base_uri": "https://localhost:8080/",
          "height": 295
        }
      },
      "source": [
        "import matplotlib.pyplot as plt\n",
        "\n",
        "history_dict = history.history\n",
        "history_dict.keys()\n",
        "\n",
        "acc = history_dict['accuracy']\n",
        "val_acc = history_dict['val_accuracy']\n",
        "loss = history_dict['loss']\n",
        "val_loss = history_dict['val_loss']\n",
        "\n",
        "epochs = range(1, len(acc) + 1)\n",
        "\n",
        "\n",
        "plt.plot(epochs, loss, 'bo', label='Training loss')\n",
        "plt.plot(epochs, val_loss, 'b', label='Validation loss')\n",
        "plt.title('Training and validation loss')\n",
        "plt.xlabel('Epochs')\n",
        "plt.ylabel('Loss')\n",
        "plt.legend()\n",
        "\n",
        "plt.show()"
      ],
      "execution_count": 22,
      "outputs": [
        {
          "output_type": "display_data",
          "data": {
            "image/png": "[encoded data removed]",
            "text/plain": [
              "<Figure size 432x288 with 1 Axes>"
            ]
          },
          "metadata": {
            "tags": []
          }
        }
      ]
    },
    {
      "cell_type": "code",
      "metadata": {
        "id": "ZRWdsoi9P9ep",
        "colab_type": "code",
        "outputId": "d3448b2d-1efb-49e7-ba28-c8a6a9ca6462",
        "colab": {
          "base_uri": "https://localhost:8080/",
          "height": 295
        }
      },
      "source": [
        "plt.clf()   # clear figure\n",
        "\n",
        "plt.plot(epochs, acc, 'bo', label='Training acc')\n",
        "plt.plot(epochs, val_acc, 'b', label='Validation acc')\n",
        "plt.title('Training and validation accuracy')\n",
        "plt.xlabel('Epochs')\n",
        "plt.ylabel('Accuracy')\n",
        "plt.legend(loc='lower right')\n",
        "\n",
        "plt.show()"
      ],
      "execution_count": 23,
      "outputs": [
        {
          "output_type": "display_data",
          "data": {
            "image/png": "[encoded data removed]",
            "text/plain": [
              "<Figure size 432x288 with 1 Axes>"
            ]
          },
          "metadata": {
            "tags": []
          }
        }
      ]
    },
    {
      "cell_type": "markdown",
      "metadata": {
        "id": "pZ7lIEd1C7D7",
        "colab_type": "text"
      },
      "source": [
        "#Model2"
      ]
    },
    {
      "cell_type": "code",
      "metadata": {
        "id": "Iidi6POBC9Gq",
        "colab_type": "code",
        "outputId": "48b693da-fd70-4cb7-dc88-3c456f07d093",
        "colab": {
          "base_uri": "https://localhost:8080/",
          "height": 67
        }
      },
      "source": [
        "#import potrzebnych pakietów\n",
        "import torch\n",
        "from torch import nn, optim\n",
        "from torchtext import data, datasets\n",
        "import numpy as np\n",
        "import random\n",
        "\n",
        "!pip install progressbar2\n",
        "\n",
        "from datetime import datetime\n"
      ],
      "execution_count": 24,
      "outputs": [
        {
          "output_type": "stream",
          "text": [
            "Requirement already satisfied: progressbar2 in /usr/local/lib/python3.6/dist-packages (3.38.0)\n",
            "Requirement already satisfied: six in /usr/local/lib/python3.6/dist-packages (from progressbar2) (1.12.0)\n",
            "Requirement already satisfied: python-utils>=2.3.0 in /usr/local/lib/python3.6/dist-packages (from progressbar2) (2.3.0)\n"
          ],
          "name": "stdout"
        }
      ]
    },
    {
      "cell_type": "code",
      "metadata": {
        "id": "oe9tBuYgC9sC",
        "colab_type": "code",
        "colab": {}
      },
      "source": [
        "\n",
        "torch.manual_seed(12)\n",
        "torch.cuda.manual_seed(12)\n",
        "np.random.seed(12)\n",
        "random.seed(12)\n",
        "\n"
      ],
      "execution_count": 0,
      "outputs": []
    },
    {
      "cell_type": "code",
      "metadata": {
        "id": "17l_gYJUC9jd",
        "colab_type": "code",
        "colab": {}
      },
      "source": [
        "USE_GPU=0\n",
        "#Sprawdzanie czy CUDA jest włączone, a sprawdzamy to po to żeby wiedziec czy bedziemy korzystali z mocy obliczeniowej co pomoże nam szybciej przetrenować sieć\n",
        "device = torch.device('cuda' if (torch.cuda.is_available() and USE_GPU) else 'cpu')"
      ],
      "execution_count": 0,
      "outputs": []
    },
    {
      "cell_type": "code",
      "metadata": {
        "id": "rGPxzb93C9VS",
        "colab_type": "code",
        "colab": {}
      },
      "source": [
        "#funkcja dzieląca nasz tekst na słowa\n",
        "def tokenize(text):\n",
        "    return text.lower().split()"
      ],
      "execution_count": 0,
      "outputs": []
    },
    {
      "cell_type": "code",
      "metadata": {
        "id": "k0ot-y0iC9JO",
        "colab_type": "code",
        "colab": {}
      },
      "source": [
        "# funckja dokładności, pomoże nam policzyć dokładność klasyfikacji\n",
        "def accuracy(preds, y):\n",
        "    \n",
        "    preds = torch.nn.functional.softmax(preds, dim=1)\n",
        "    # maksymalne wartosci we wierszu\n",
        "    _, indices = preds.max(dim=1)\n",
        "    \n",
        "    correct = (indices == y).float()  \n",
        "    acc = correct.sum()/len(correct)\n",
        "    return acc"
      ],
      "execution_count": 0,
      "outputs": []
    },
    {
      "cell_type": "code",
      "metadata": {
        "id": "O2kUQgCYDLoi",
        "colab_type": "code",
        "outputId": "c5df97c7-b714-4b1c-8b8d-61ddffbfb2b7",
        "colab": {
          "base_uri": "https://localhost:8080/",
          "height": 34
        }
      },
      "source": [
        "#wczytywanie danych\n",
        "#definiujemy text odpowiednie za przetworzenie tekstu i etykiety - neg i pos\n",
        "TEXT = data.Field(lower=True,\n",
        "                  include_lengths=True,\n",
        "                  tokenize=tokenize)\n",
        "LABEL = data.LabelField()\n",
        "\n",
        "#wczytujemy\n",
        "train_ds, valid_ds = datasets.IMDB.splits(TEXT, LABEL)\n",
        "\n",
        "#długości danych\n",
        "print(f'train={len(train_ds)} valid={len(valid_ds)}')"
      ],
      "execution_count": 29,
      "outputs": [
        {
          "output_type": "stream",
          "text": [
            "train=25000 valid=25000\n"
          ],
          "name": "stdout"
        }
      ]
    },
    {
      "cell_type": "code",
      "metadata": {
        "id": "PyYRZkg8DLlU",
        "colab_type": "code",
        "outputId": "8cb9f150-57d9-4777-be06-28502d43e3df",
        "colab": {
          "base_uri": "https://localhost:8080/",
          "height": 121
        }
      },
      "source": [
        "# budowa słownika - ważne! bo zdanie przedstawiamy jako ciąg liczb, budujemy dwa słowniki\n",
        "TEXT.build_vocab(train_ds,\n",
        "                 min_freq=10,\n",
        "                 max_size=10000 ) \n",
        "LABEL.build_vocab(train_ds)\n",
        "\n",
        "print(TEXT.vocab.freqs.most_common(10)) #najpopularniejsze wyrazy\n",
        "print(TEXT.vocab.freqs.most_common()[:-11:-1])\n",
        "vocab = TEXT.vocab\n",
        "\n",
        "vocab_size = len(vocab) # wiekszy rozmiar niz zadalismy bo dodają sie dwa pola automatycznie\n",
        "print(f'vocab_size={vocab_size}')\n",
        "print(list(vocab.stoi.keys())[0:10])\n",
        "\n",
        "print(LABEL.vocab.stoi.keys())"
      ],
      "execution_count": 30,
      "outputs": [
        {
          "output_type": "stream",
          "text": [
            "[('the', 322198), ('a', 159953), ('and', 158572), ('of', 144462), ('to', 133967), ('is', 104171), ('in', 90527), ('i', 70480), ('this', 69714), ('that', 66292)]\n",
            "[('crappily', 1), ('hugging/kissing', 1), ('pictures/posters', 1), ('jackhammered', 1), ('results...', 1), ('s--t!!', 1), ('cynthia)', 1), (\"'loveable'\", 1), ('threatening?', 1), ('encounter?', 1)]\n",
            "vocab_size=10002\n",
            "['<unk>', '<pad>', 'the', 'a', 'and', 'of', 'to', 'is', 'in', 'i']\n",
            "dict_keys(['neg', 'pos'])\n"
          ],
          "name": "stdout"
        }
      ]
    },
    {
      "cell_type": "code",
      "metadata": {
        "id": "cBPNGBAMDLhy",
        "colab_type": "code",
        "colab": {}
      },
      "source": [
        "#parametry\n",
        "n_hid=256\n",
        "n_embed=100\n",
        "n_layers=1\n",
        "batch_size = 8\n",
        "\n",
        "input_dim = vocab_size # 10002 , bo 2 wiecej niz zadalismy\n",
        "output_dim = len(LABEL.vocab) # 2, bo neg i pos"
      ],
      "execution_count": 0,
      "outputs": []
    },
    {
      "cell_type": "code",
      "metadata": {
        "id": "QcSoLOUODLXz",
        "colab_type": "code",
        "outputId": "b47333e5-fc96-4a04-febb-849606cee664",
        "colab": {
          "base_uri": "https://localhost:8080/",
          "height": 84
        }
      },
      "source": [
        "\n",
        "print(f'Parametry modelu')\n",
        "print(f'input_dim={input_dim}, output={output_dim}')\n",
        "print(f'n_layers={n_layers}, n_hid={n_hid} embed={n_embed}')\n",
        "print(f'batch={batch_size}')"
      ],
      "execution_count": 32,
      "outputs": [
        {
          "output_type": "stream",
          "text": [
            "Parametry modelu\n",
            "input_dim=10002, output=2\n",
            "n_layers=1, n_hid=256 embed=100\n",
            "batch=8\n"
          ],
          "name": "stdout"
        }
      ]
    },
    {
      "cell_type": "code",
      "metadata": {
        "id": "Uv9B0cPODRtK",
        "colab_type": "code",
        "colab": {}
      },
      "source": [
        "#tworzenie iteratorów, grupujemy teksty o podobnej długości i pobieramy je w paczkach o rozmiarze batch_size\n",
        "train_iter = data.BucketIterator(\n",
        "    train_ds,\n",
        "    batch_size=batch_size,\n",
        "    sort_key=lambda x: len(x.text),\n",
        "    sort_within_batch=True, device=device)"
      ],
      "execution_count": 0,
      "outputs": []
    },
    {
      "cell_type": "code",
      "metadata": {
        "id": "v7-8lJn1DYLa",
        "colab_type": "code",
        "colab": {}
      },
      "source": [
        "valid_iter = data.BucketIterator(\n",
        "    valid_ds, batch_size=batch_size,\n",
        "    sort_key=lambda x: len(x.text),\n",
        "    sort_within_batch=True, device=device)"
      ],
      "execution_count": 0,
      "outputs": []
    },
    {
      "cell_type": "code",
      "metadata": {
        "id": "ffNFdU2YDYDC",
        "colab_type": "code",
        "colab": {}
      },
      "source": [
        "#budowa modułu\n",
        "class SeqRNN(nn.Module):\n",
        "\n",
        "    def __init__(self, input_dim,\n",
        "                 output_dim, embed_size,\n",
        "                 hidden_size, num_layers=1,\n",
        "                 dropout=0.1,vectors=None ):\n",
        "        super().__init__()\n",
        "\n",
        "        self.embed_size = embed_size\n",
        "        self.hidden_size = hidden_size\n",
        "        self.output_dim = output_dim\n",
        "        self.num_layers = num_layers\n",
        "\n",
        "        self.embed = nn.Embedding(input_dim, embed_size) #kodujemy poszczególne słowa na wektory\n",
        "        if vectors:\n",
        "            self.embed.weight.data.copy_(vectors)\n",
        "\n",
        "        \n",
        "        self.drop = nn.Dropout(dropout)\n",
        "\n",
        "        self.rnn = nn.LSTM(embed_size, hidden_size,\n",
        "                            num_layers, batch_first=False)\n",
        "        \n",
        "        self.linear = nn.Linear(hidden_size, output_dim)\n",
        "\n",
        "    def forward(self, seq):\n",
        "        \n",
        "        len_seq, bs = seq.shape\n",
        "        w_embed = self.embed(seq)\n",
        "        w_embed = self.drop(w_embed)\n",
        "    \n",
        "        output, _ = self.rnn(w_embed)\n",
        "        \n",
        "        \n",
        "        last_output = output[-1, :, :]\n",
        "        \n",
        "        last_output = self.drop(last_output)\n",
        "\n",
        "        out = self.linear(last_output)\n",
        "        return out"
      ],
      "execution_count": 0,
      "outputs": []
    },
    {
      "cell_type": "code",
      "metadata": {
        "id": "XAxdvO_2DXf6",
        "colab_type": "code",
        "outputId": "680b3d73-6cc1-4ebc-935f-da14c19a6d7c",
        "colab": {
          "base_uri": "https://localhost:8080/",
          "height": 118
        }
      },
      "source": [
        "model = SeqRNN(input_dim=input_dim,\n",
        "               output_dim=output_dim,\n",
        "               embed_size=n_embed, hidden_size=n_hid)\n",
        "model.to(device)"
      ],
      "execution_count": 36,
      "outputs": [
        {
          "output_type": "execute_result",
          "data": {
            "text/plain": [
              "SeqRNN(\n",
              "  (embed): Embedding(10002, 100)\n",
              "  (drop): Dropout(p=0.1, inplace=False)\n",
              "  (rnn): LSTM(100, 256)\n",
              "  (linear): Linear(in_features=256, out_features=2, bias=True)\n",
              ")"
            ]
          },
          "metadata": {
            "tags": []
          },
          "execution_count": 36
        }
      ]
    },
    {
      "cell_type": "code",
      "metadata": {
        "id": "hkXOaaMODXVS",
        "colab_type": "code",
        "colab": {}
      },
      "source": [
        "#funckja straty\n",
        "criterion = nn.CrossEntropyLoss()\n",
        "optimizer = optim.Adam(model.parameters())\n",
        "\n",
        "epoch_loss = 0\n",
        "epoch_acc = 0\n",
        "epoch = 10"
      ],
      "execution_count": 0,
      "outputs": []
    },
    {
      "cell_type": "code",
      "metadata": {
        "id": "D6pYJtPgDel6",
        "colab_type": "code",
        "outputId": "b1ffab77-af7a-4a21-e2bd-e0e7a2346393",
        "colab": {
          "base_uri": "https://localhost:8080/",
          "height": 34
        }
      },
      "source": [
        "for e in range(epoch):\n",
        "\n",
        "    start_time = datetime.now()\n",
        "    model.train()\n",
        "    \n",
        "    for batch_idx, batch in enumerate(train_iter):\n",
        "        model.zero_grad()\n",
        "        \n",
        "        batch_text = batch.text[0].to(device) \n",
        "        batch_label = batch.label.to(device)\n",
        "        \n",
        "        predictions = model(batch_text)\n",
        "        \n",
        "        loss = criterion(predictions, batch_label)\n",
        "        epoch_loss += loss.item()\n",
        "\n",
        "        # wsteczna propagacja\n",
        "        loss.backward()\n",
        "        optimizer.step()\n",
        "\n",
        "       \n",
        "\n",
        "   \n",
        "    epoch_loss = epoch_loss / len(train_iter)\n",
        "\n",
        "    time_elapsed = datetime.now() - start_time\n",
        "\n",
        "   \n",
        "    model.eval()\n",
        "    with torch.no_grad():\n",
        "        for batch_idx, batch in enumerate(valid_iter):\n",
        "            \n",
        "            batch_text = batch.text[0] \n",
        "            batch_label = batch.label\n",
        "            # dane wyjściowe modelu\n",
        "            predictions = model(batch_text)\n",
        "            # obliczamy dokładność\n",
        "            acc = accuracy(predictions, batch_label)\n",
        "\n",
        "            epoch_acc += acc\n",
        "            \n",
        "\n",
        "    epoch_acc = epoch_acc/len(valid_iter)\n",
        "   \n",
        "\n",
        "    # podsumowanie\n",
        "    print(\n",
        "        f'Epoch {e}/{epoch} loss={epoch_loss} acc={epoch_acc} time={time_elapsed}')\n",
        "    epoch_loss = 0\n",
        "    epoch_acc = 0"
      ],
      "execution_count": 38,
      "outputs": [
        {
          "output_type": "stream",
          "text": [
            "Epoch 0/1 loss=0.6498711192369461 acc=0.7609599828720093 time=0:36:23.677253\n"
          ],
          "name": "stdout"
        }
      ]
    },
    {
      "cell_type": "markdown",
      "metadata": {
        "id": "DGsxIFgYB204",
        "colab_type": "text"
      },
      "source": [
        "Test dla 5 epok.\n",
        "\n",
        "![alt text](https://scontent-frx5-1.xx.fbcdn.net/v/t1.15752-9/82268392_2539157409687425_1435788067901276160_n.png?_nc_cat=100&_nc_ohc=D6litGGpAQAAX_T-Yzn&_nc_ht=scontent-frx5-1.xx&oh=10162c23fd006d30a1537f7e26fa4b22&oe=5E962782)"
      ]
    }
  ]
}